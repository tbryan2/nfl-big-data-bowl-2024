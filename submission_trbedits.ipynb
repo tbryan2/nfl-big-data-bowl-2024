{
 "cells": [
  {
   "cell_type": "markdown",
   "id": "5d03360e",
   "metadata": {},
   "source": [
    "# A Biomimetic Approach to the NFL Big Data Bowl: Charting the Future of NFL Secondaries with Swarm Intelligence and PASTA 🍝"
   ]
  },
  {
   "cell_type": "markdown",
   "id": "aa4fdc23",
   "metadata": {},
   "source": [
    "## Introduction\n",
    "\n",
    "--DeMeco picture here left pane, animation right pane--\n",
    "\n",
    "**DeMeco Ryans**, recognized as the 2022 Assistant Coach of the Year for his role as the 49ers Defensive Coordinator, has championed the concept of swarming to the ball. This philosophy, which [continues to resonate](https://www.houstontexans.com/video/head-coach-demeco-ryans-we-talked-about-a-swarm-mentality-and-that-s-what-we-did) with Ryans in his current position as head coach of the Houston Texans, emphasizes the importance of players converging on a ball carrier with intensity.\n",
    "\n",
    "**Guiding Question:** How can we quantify defensive secondaries' success in limiting YAC via swarm tackling?\n",
    "\n",
    "Leveraging advanced analytics, we introduce a new metric called **PASTA (Path Analysis via Swarm-Tackle Accuracy)** that aims to answer that question using swarm intelligence.\n",
    "\n",
    "-- correlation of PASTA vs. EPA from YAC--"
   ]
  },
  {
   "cell_type": "markdown",
   "id": "2a4da08a",
   "metadata": {},
   "source": [
    "# Mathematical Representation of Swarm Tendencies in a Football Context\n",
    "\n",
    "Our submission proposes a new metric named PASTA, derived from Particle Swarm Optimization, to evaluate and quantify defensive secondaries effectiveness at swarming ball carriers. \n",
    "Particle Swarm Optimization (PSO) is a computational method for finding optimal paths, leveraging a social component where multiple agents (analogous to a flock of birds or a school of fish, or in this case, a defensive unit) share information to collectively navigate towards the best solutions in complex spaces. This characteristic makes it highly suitable for addressing multi-agent problems where coordination and cooperation are essential. In a football context, each player adjusts their position and strategy relative to others, guided by simple yet effective rules. The collective aim (objective function) in our case is to minimize the distance to the ball carrier."
   ]
  },
  {
   "cell_type": "markdown",
   "id": "aae0cc1e",
   "metadata": {},
   "source": [
    "### 1. Objective Function\n",
    "\n",
    "Particle Swarm Optimization (PSO) begins with the definition of an objective function, which serves as a guiding metric for the optimization process. This objective function quantitatively evaluates the quality or suitability of a solution within the problem space. Our objective function is simple:\n",
    "\n",
    "$minimize ||P_i - T||$\n",
    "\n",
    "Here, $T$ represents the target with position vector components $x_t$ and $y_t$ and $P_i$ is the position of the $i$-th particle, also described as a position vector with components $x^p_i$ and $y^p_i$. The operation $||P_i - T||$ denotes the Euclidean Distance between the particle's position $P_i$ and the target $T$, which we aim to minimize.\n",
    "\n",
    "While the objective function is simple enough to formulate, the effectiveness of our function relies heavily on the selection of the target, or swarm point, which is described below."
   ]
  },
  {
   "cell_type": "markdown",
   "id": "2a152339",
   "metadata": {},
   "source": [
    "### 2. Target Selection \n",
    "\n",
    "To define our swarm point, we first define our search space as each of the ball carriers position following receving the football. Then, we narrow our search space to locations where all agents could reach in a straight line given some reasonable minimum velocity, $ \\vec{V}_{\\text{min}}$. From there, we find the best swarm point weighted on the $\\theta$ defenders will have to take to reach $T$ and the distance to $T$, $d$, for each defender.\n",
    "\n",
    "In more robust terms:\n",
    "\n",
    "Let $ \\vec{P}_i $ be the position vector of the $ i $-th defensive player, and $ \\vec{T}_j $ be the position vector of the $ j $-th potential tackle point along the ball carrier's path. Define the minimum velocity requirement as $ \\vec{V}_{\\text{min}} = (V_{\\text{min}_x}, V_{\\text{min}_y}) $. The objective is to find the tackle point $ \\vec{T}_{\\text{best}} $ that minimizes the total score $ S $, subject to velocity and angle constraints.\n",
    "\n",
    "The total score $ S $ for a tackle point $ \\vec{T}_j $ is given by:\n",
    "\n",
    "$$\n",
    "S(\\vec{T}_j) = \\sum_{i=1}^{N} \\left( w_d \\cdot d(\\vec{P}_i, \\vec{T}_j) + w_{\\theta} \\cdot |\\theta(\\vec{P}_i, \\vec{T}_j)| \\right)\n",
    "$$\n",
    "\n",
    "where:\n",
    "- $ d(\\vec{P}_i, \\vec{T}_j) = \\vec{T}_j - \\vec{P}_i $ is the Euclidean distance between defensive player $ i $ and tackle point $ j $.\n",
    "- $ \\theta(\\vec{P}_i, \\vec{T}_j) $ is the angle between the defensive player's position vector and the tackle point, calculated as $ \\arctan2(T_{jy} - P_{iy}, T_{jx} - P_{ix}) $, with the constraint that $ -\\theta_{\\text{max}} \\leq \\theta \\leq \\theta_{\\text{max}} $.\n",
    "- $ w_d $ and $ w_{\\theta} $ are weighting factors for distance and angle, respectively.\n",
    "\n",
    "The constraint which narrows our search space for each defensive player-tackle point pair is:\n",
    "\n",
    "$$\n",
    "|T_{jx} - P_{ix}| \\leq V_{\\text{min}_x} \\cdot j \\quad \\text{and} \\quad |T_{jy} - P_{iy}| \\leq V_{\\text{min}_y} \\cdot j\n",
    "$$\n",
    "\n",
    "If this constraint is violated, the score for that defensive player-tackle point pair is set to infinity.\n",
    "\n",
    "Finally, the swarm point is chosen as:\n",
    "\n",
    "$$\n",
    "\\vec{T}_{\\text{best}} = \\underset{\\vec{T}_j}{\\mathrm{argmin}}\\, S(\\vec{T}_j)\n",
    "$$"
   ]
  },
  {
   "cell_type": "markdown",
   "id": "6a9370a1",
   "metadata": {},
   "source": [
    "### 3. Particle Swarm Optimization \n",
    "\n",
    "Once the objective function and target are defined, we can run PSO. For any given play, we initialize a swarm of particles, each denoted as $ P_i $ for the i-th particle, representing a defensive player's position on the field.\n",
    "\n",
    "As the play progresses following a ball carrier receiving the football, each particle updates its velocity and position based on a combination of its own best-known position $ \\vec{p}_{best,i} $, the best-known positions $ \\vec{p}_{best,neigh} $ of its neighboring particles, and the best-known position $ \\vec{g}_{best} $ of the entire swarm. These updates are mathematically represented as:\n",
    "\n",
    "$ \\vec{v}_i^{(new)} = \\vec{v}_i + \\phi_1 \\cdot rand_1 \\cdot (\\vec{p}_{best,i} - \\vec{x}_i) + \\phi_2 \\cdot rand_2 \\cdot (\\vec{g}_{best} - \\vec{x}_i) $\n",
    "\n",
    "$ \\vec{x}_i^{(new)} = \\vec{x}_i + \\vec{v}_i^{(new)} $\n",
    "\n",
    "where $ \\phi_1 $ and $ \\phi_2 $ are coefficients that determine the weighting of the stochastic acceleration terms, and $ rand_1 $, $ rand_2 $ are random numbers in the range [0,1]. This dynamic process allows the swarm to collectively evolve, aiming to minimize the distance to the target, the ball carrier, in accordance with the objective function $ ||P_i - T|| $, effectively mimicking the coordinated movement of a football team's defense during a play.\n",
    "\n",
    "Once the updates to the velocities and positions of the particles are made the next crucial step is to evaluate the objective function for each particle. This is done by assessing how close each particle's current position $ \\vec{x}_i $ is to the target $ T $, using the objective function $ ||P_i - T|| $.\n",
    "\n",
    "After evaluating the objective function, each particle's personal best position $ \\vec{p}_{best,i} $ is updated if the current position yields a better (lower) value of the objective function than previously recorded. Similarly, the best-known position of the swarm $ \\vec{g}_{best} $ is updated if any particle discovers a position that is closer to the target than any previously known positions.\n",
    "\n",
    "This cycle of updating velocities and positions, followed by evaluating the objective function and updating the personal and global bests, continues iteratively, until a stopping threshold is reached. The swarm collectively moves towards the target, optimizing their positions in a coordinated manner that mimics a real-life defensive unit in football, where each player adjusts their movement in response to the ball carrier, their teammates, and the overall defensive strategy.\n",
    "\n",
    "\n",
    "![image info](images/PSO_Basics.png)\n",
    "### 4. Path Evaluation: Frechet Distance\n",
    "\n",
    "The Fréchet distance is a measure used to quantify the similarity between two curves, which in our context can represent the actual paths of the defenders and the PSO-suggested path. Let $ \\mathcal{P} $ and $ \\mathcal{Q} $ represent the actual path of a defender and a PSO-suggested path, respectively. The Fréchet distance between $ \\mathcal{P} $ and $ \\mathcal{Q} $ is defined as the minimum \"leash length\" required to connect a point moving along $ \\mathcal{P} $ and another point moving along $ \\mathcal{Q} $, such that both points traverse their respective paths from start to finish.\n",
    "\n",
    "Formally, the Fréchet distance $ F(\\mathcal{P}, \\mathcal{Q}) $ can be defined as:\n",
    "\n",
    "$$\n",
    "F(\\mathcal{P}, \\mathcal{Q}) = \\inf_{\\alpha, \\beta}\\max_{t \\in [0,1]} \\left\\| \\mathcal{P}(\\alpha(t)) - \\mathcal{Q}(\\beta(t)) \\right\\|\n",
    "$$\n",
    "\n",
    "Here, $ \\alpha(t) $ and $ \\beta(t) $ are continuous non-decreasing functions mapping the interval $ [0,1] $ onto the paths $ \\mathcal{P} $ and $ \\mathcal{Q} $, respectively. The distance at any point in time $ t $ is given by the Euclidean distance $ \\left\\| \\mathcal{P}(\\alpha(t)) - \\mathcal{Q}(\\beta(t)) \\right\\| $. The Fréchet distance is the infimum of these distances over all possible mappings $ \\alpha $ and $ \\beta $.\n",
    "\n",
    "In our submission, we use fretchet distance as our definition of error for defenders paths, comparing their actual paths with PSO-suggested paths."
   ]
  },
  {
   "cell_type": "markdown",
   "id": "08ec1229",
   "metadata": {},
   "source": [
    "### 4. PASTA Calculation\n",
    "\n",
    "We use frechet distance in yards as the denominator to quantify the difference between the defenders actual path and the PSO-suggested path. The numerator, is based on how many yards after catch (YAC) were given up versus expected. $^2$\n",
    "\n",
    "The quotient of these two becomes PASTA. A higher PASTA value could indicate that the a defenders close promixity to the optimal path resulted in YAC under expected. \n",
    "\n",
    "$$ \\text{Yards After Catch Under Expected (YUX)} = \\text{Expected Yards After Catch} - \\text{Actual Yards After Catch} $$\n",
    "\n",
    "$$ \\text{PASTA} = \\frac{\\text{YUX}}{\\text{frechet distance per player}} $$"
   ]
  },
  {
   "cell_type": "markdown",
   "id": "c445b267",
   "metadata": {},
   "source": [
    "## Total Frechet Distance vs. YAC of Teams Across all Plays and All Games \n",
    "\n",
    "--maybe a better title here?--\n",
    "\n",
    "[diagram showing team totals correlation]\n",
    "\n",
    "as you can see, DeMeco Ryans 49ers are top tier in terms of sticking to the optimal path. For more data exploration check out our eda notebook here [link needed]. This chart was the main inspiration for using ben baldwins xyac model to calculate a metric called PASTA. "
   ]
  },
  {
   "cell_type": "markdown",
   "id": "3671052e",
   "metadata": {},
   "source": [
    "## 2022 PASTA Rankings by Team and Player\n",
    "\n",
    "[diagrams]\n",
    "\n",
    "Captions with some further analyis"
   ]
  },
  {
   "cell_type": "markdown",
   "id": "c3d37ff0",
   "metadata": {},
   "source": [
    "## Discussion and Applications\n",
    "PASTA offers vast applications for the NFL as whole, individual teams, the media, and fans.\n",
    "\n",
    "**Player Evaluation:**\n",
    "- **Unexpected YAC Assignment:** A large PASTA value could indicate the DB's close proximity to the optimal path generated YAC under expected. While a small or negative PASTA value could indicate suboptimal pursuit of the ball carrier.\n",
    "- **Synergy in the Secondary:** Locating secondary units or player groupings that work better together to limit YAC.\n",
    "\n",
    "**Coaching Applications:**\n",
    "- **Teachable Moments:** Identifying plays with significant deviations from optimal paths and using them in film study. \n",
    "- **Reinforcement of Successful Strategies:** Highlighting plays where the secondary closely followed the optimal path ot everyone hustled after getting off the optimal early. \n",
    "\n",
    "**Broadcasting and Rankings:**\n",
    "- **On-field Graphics:** Demonstrating defensive prowess through proximity to \"Biomimetic\" or \"AI\" Path on field graphic\n",
    "- **Player and Defense Rankings:** Showcasing how talented players and teams align with optimal paths."
   ]
  },
  {
   "cell_type": "markdown",
   "id": "30dfedf0",
   "metadata": {},
   "source": [
    "## Conclusion\n",
    "PASTA, drawing inspiration from natural efficiency and tailored for football, is poised to revolutionize NFL defensive strategies. Its capacity to assess individual players and units, particularly in expansive coverage, positions it as a versatile and potent tool in strategic defense planning. This metric provides not just tactical insights for coaches but also engaging analytical content for fans and broadcasters."
   ]
  },
  {
   "cell_type": "markdown",
   "id": "ac28f34b",
   "metadata": {},
   "source": [
    "# Citations\n",
    "1. J. Kennedy and R. Eberhart, \"Particle swarm optimization,\" Proceedings of ICNN'95 - International Conference on Neural Networks, Perth, WA, Australia, 1995, pp. 1942-1948 vol.4, doi: 10.1109/ICNN.1995.488968.\n",
    "2. https://opensourcefootball.com/posts/2020-09-28-nflfastr-ep-wp-and-cp-models/"
   ]
  },
  {
   "cell_type": "code",
   "execution_count": null,
   "id": "cbac846b-5f0c-4f60-b02e-55a99abc2779",
   "metadata": {},
   "outputs": [],
   "source": []
  }
 ],
 "metadata": {
  "kernelspec": {
   "display_name": "Python 3 (ipykernel)",
   "language": "python",
   "name": "python3"
  },
  "language_info": {
   "codemirror_mode": {
    "name": "ipython",
    "version": 3
   },
   "file_extension": ".py",
   "mimetype": "text/x-python",
   "name": "python",
   "nbconvert_exporter": "python",
   "pygments_lexer": "ipython3",
   "version": "3.10.13"
  }
 },
 "nbformat": 4,
 "nbformat_minor": 5
}
