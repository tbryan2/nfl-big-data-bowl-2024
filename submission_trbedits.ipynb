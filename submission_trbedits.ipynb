{
 "cells": [
  {
   "cell_type": "markdown",
   "id": "5d03360e",
   "metadata": {},
   "source": [
    "# A Biomimetic Approach to the NFL Big Data Bowl: Charting the Future of NFL Secondaries with Swarm Intelligence and PASTA 🍝"
   ]
  },
  {
   "cell_type": "markdown",
   "id": "aa4fdc23",
   "metadata": {},
   "source": [
    "## Introduction\n",
    "\n",
    "--DeMeco picture here left pane, animation right pane--\n",
    "\n",
    "**DeMeco Ryans**, recognized as the 2022 Assistant Coach of the Year for his role as the 49ers Defensive Coordinator, has championed the concept of swarming to the ball. This philosophy, which [continues to resonate](https://www.houstontexans.com/video/head-coach-demeco-ryans-we-talked-about-a-swarm-mentality-and-that-s-what-we-did) with Ryans in his current position as head coach of the Houston Texans, emphasizes the importance of players converging on a ball carrier with intensity.\n",
    "\n",
    "**Guiding Question:** How can we quantify defensive secondaries' success in limiting YAC via swarm tackling? Can we properly assign YAC over or under expected to members of the secondary?\n",
    "\n",
    "Leveraging advanced analytics, we introduce a new metric called **PASTA (Path Analysis via Swarm-Tackle Accuracy)** that aims to answer that question using swarm intelligence.\n",
    "\n",
    "-- correlation of PASTA vs. EPA from YAC--"
   ]
  },
  {
   "cell_type": "markdown",
   "id": "2a4da08a",
   "metadata": {},
   "source": [
    "# Mathematical Representation of PSO in Football Context\n",
    "\n",
    "PASTA, grounded in Particle Swarm Optimization (PSO)[^1], adapts this algorithm, typically inspired by the coordinated behavior of natural swarms like birds and fish, for football strategies. PSO excels at optimizing complex problems through iterative solution improvements, making it well-suited for simulating social behaviors of animals. In a football context, each player, akin to a member of a swarm, adjusts their position and strategy relative to others, guided by simple yet effective rules. The collective aim in this case is to minimize the distance to the ball carrier efficiently while avoiding blockers, mirroring the natural swarms' foraging or hunting strategies.\n",
    "\n",
    "PSO’s mathematical framework involves updating each 'particle's' (player's) velocity and position, considering both their personal best moves and the team's collective best strategies. The key equations are:\n",
    "\n",
    "1. **Velocity Update Equation:**\n",
    "   $$ V_{ij}(t+1) = w V_{ij}(t) + c_1 r_1 (P_{ij}(t) - X_{ij}(t)) + c_2 r_2 (P_{gj}(t) - X_{ij}(t))$$\n",
    "   \n",
    "This equation reflects how a player (particle) adjusts their movement speed (velocity) based on their current momentum (inertia), personal past successful maneuvers (cognitive component), and the team's overall best past maneuvers (social component). \n",
    "\n",
    "3. **Position Update Equation:**\n",
    "   $$ X_{ij}(t+1) = X_{ij}(t) + V_{ij}(t+1) $$\n",
    "\n",
    "This equation determines the player's new position on the field, based on their updated velocity.\n",
    "\n",
    "Where:\n",
    "- $ X_{ij}(t) $ represents the position of player $ i $ in aspect $ j $ (e.g., X or Y axis on the field) at time $ t $.\n",
    "- $ V_{ij}(t) $ denotes the velocity of player $ i $ in aspect $ j $ at time $ t $.\n",
    "- $ w $ is the inertia weight, balancing exploration (searching new areas) and exploitation (refining current strategies).\n",
    "- $ c_1 $ and $ c_2 $ are acceleration constants that regulate the importance of personal vs. collective experience.\n",
    "- $ r_1 $ and $ r_2 $ are random factors introducing variability and unpredictability in movements.\n",
    "- $ P_{ij}(t) $ is the personal best position achieved by player $ i $ in aspect $ j $ until time $ t $.\n",
    "- $ P_{gj}(t) $ is the best position achieved by any player in aspect $ j $ until time $ t $."
   ]
  },
  {
   "cell_type": "markdown",
   "id": "2a152339",
   "metadata": {},
   "source": [
    "## Attacking the Ball: Adapting PSO to Football\n",
    "\n",
    "--one sentence here--\n",
    "\n",
    "![image info](images/PSO_Basics.png)\n",
    "\n",
    "The full code is available [here](https://github.com/tbryan2/nfl-big-data-bowl-2024).\n",
    "\n",
    "--actual line should go to actual tackle point--"
   ]
  },
  {
   "cell_type": "markdown",
   "id": "9f0669cb",
   "metadata": {},
   "source": [
    "### PASTA Calculation\n",
    "\n",
    "Fréchet distance is a measure of the similarity between two lines. We use it as the denominator to quantify the difference between the defensive back's actual path and the optimal path to the ball carrier (as determined by the PSO algorithim). The numerator, is based on how many yards after catch (YAC) were given up versus expected. \n",
    "\n",
    "The quotient of these two becomes PASTA. A higher PASTA value could indicate that the DBs close promixity to the optimal path resulted in YAC under expected. \n",
    "\n",
    "$$ \\text{Yards After Catch Under Expected (YUX)} = \\text{Expected Yards After Catch} - \\text{Actual Yards After Catch} $$\n",
    "\n",
    "$$ \\text{PASTA} = \\frac{\\text{YUX}}{\\text{frechet distance per player}} $$\n",
    "\n",
    "Using Fréchet distance per player normalizes for when there is a varying number of defensive backs across plays. Note: this metric quantifies the secondary's ability to swarm to the ball carrier **after** the ball is caught; it does not consider the DBs positioning prior to this point.\n",
    "\n",
    "--median frechet distance?--"
   ]
  },
  {
   "cell_type": "markdown",
   "id": "c445b267",
   "metadata": {},
   "source": [
    "## Total Frechet Distance vs. YAC of Teams Across all Plays and All Games \n",
    "\n",
    "--maybe a better title here?--\n",
    "\n",
    "[diagram showing team totals correlation]\n",
    "\n",
    "as you can see, DeMeco Ryans 49ers are top tier in terms of sticking to the optimal path. For more data exploration check out our eda notebook here [link needed]. This chart was the main inspiration for using ben baldwins xyac model to calculate a metric called PASTA. "
   ]
  },
  {
   "cell_type": "markdown",
   "id": "3671052e",
   "metadata": {},
   "source": []
  },
  {
   "cell_type": "markdown",
   "id": "4cac959e",
   "metadata": {},
   "source": [
    "\n",
    "\n",
    "\n",
    "\n",
    "\n",
    "\n",
    "\n",
    "\n",
    "\n",
    "\n",
    "## Analysis of a Play \n",
    "animation of play here \n",
    "\n",
    "breief over view of the analysis of this particular play. Explain frechet distance calculation. \n",
    "\n",
    "Because we calculate frechet distance frame by frame, we have the ability to to analyze players deviation at different segments of the play. Beginning, middle, specific frames... whatever is needed for that weeks coaching point or rankings discussion. Additionally, trimming the play into different segments reduces the overall decay of our target selection. This flexibility gives it an advantage over a metric like yards after catch, which is at the play level. Since we want to evaluate our metric against an established metric (yards after catch) and model(xyac from ben baldwin [citationneeded] , nflfastR, we will need to aggregate our frechet distances to the play -player level. From there we willa ggregate to the team level and compare the two metrics, which conveniently are both measured in yards. \n",
    "\n"
   ]
  },
  {
   "cell_type": "markdown",
   "id": "f5f38e7b-311b-43da-a529-d59da7b7e859",
   "metadata": {},
   "source": [
    "\n",
    "\n",
    "### Anyway, without further ado here are the 2022 PASTA Rankings by Team and Player\n",
    "\n",
    "[diagrams]\n",
    "\n",
    "Captions with some further analyis\n",
    "\n",
    "## Discussion and Applications\n",
    "PASTA offers vast applications for the NFL as whole, individual teams, the media, and fans.\n",
    "\n",
    "**Coaching Applications:**\n",
    "- **Teachable Moments:** Identifying plays with significant deviations from optimal paths and using them in film study. \n",
    "- **Reinforcement of Successful Strategies:** Highlighting plays where the secondary closely followed the optimal path ot everyone hustled after getting off the optimal early. \n",
    "\n",
    "**Broadcasting and Rankings:**\n",
    "- **On-field Graphics:** Demonstrating defensive prowess through proximity to \"Biomimetic\" or \"AI\" Path on field graphic\n",
    "- **Player and Defense Rankings:** Showcasing how talented players and teams align with optimal paths.\n",
    "\n",
    "## Future Considerations\n",
    "- **Generalizing to Other Groups:** It would be interesting to analyze different position units, entire teams, or relevant combinations of players on different types of plays and different types of expected yards models. \n",
    "- **Covering Potential Receivers:** Exploring PASTA's application to broader defensive scenarios, such as secondaries converging on a reciever in anticipation of an incoming pass.\n",
    "- **Hyperparameter Tuning:** Refining parameters to tailor to specific team strategies and in house analytics using straties like GridSearch. When we do this we can revisit the random components and add them in without throwing off the entire algorithm. \n",
    "- **Incorporating Other Models:** Considering integration with other distance minimization models like STRAIN for enhanced analysis and perhaps better path optimization.\n",
    "\n",
    "\n",
    "\n"
   ]
  },
  {
   "cell_type": "markdown",
   "id": "1033bbed",
   "metadata": {},
   "source": [
    "## Conclusion\n",
    "PASTA, drawing inspiration from natural efficiency and tailored for football, is poised to revolutionize NFL defensive strategies. Its capacity to assess individual players and units, particularly in expansive coverage, positions it as a versatile and potent tool in strategic defense planning. This metric provides not just tactical insights for coaches but also engaging analytical content for fans and broadcasters."
   ]
  },
  {
   "cell_type": "markdown",
   "id": "6e0ae671",
   "metadata": {},
   "source": [
    "# Appendix\n",
    "\n"
   ]
  },
  {
   "cell_type": "markdown",
   "id": "ac28f34b",
   "metadata": {},
   "source": [
    "# Citations\n",
    "[^1] J. Kennedy and R. Eberhart, \"Particle swarm optimization,\" Proceedings of ICNN'95 - International Conference on Neural Networks, Perth, WA, Australia, 1995, pp. 1942-1948 vol.4, doi: 10.1109/ICNN.1995.488968."
   ]
  },
  {
   "cell_type": "markdown",
   "id": "da823e47",
   "metadata": {},
   "source": []
  }
 ],
 "metadata": {
  "kernelspec": {
   "display_name": "Python 3 (ipykernel)",
   "language": "python",
   "name": "python3"
  },
  "language_info": {
   "codemirror_mode": {
    "name": "ipython",
    "version": 3
   },
   "file_extension": ".py",
   "mimetype": "text/x-python",
   "name": "python",
   "nbconvert_exporter": "python",
   "pygments_lexer": "ipython3",
   "version": "3.10.13"
  }
 },
 "nbformat": 4,
 "nbformat_minor": 5
}
