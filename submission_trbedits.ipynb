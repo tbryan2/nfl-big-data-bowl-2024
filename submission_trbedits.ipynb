{
 "cells": [
  {
   "cell_type": "markdown",
   "id": "5d03360e",
   "metadata": {},
   "source": [
    "# A Biomimetic Approach to the NFL Big Data Bowl: Charting the Future of NFL Secondaries with Swarm Intelligence and PASTA 🍝"
   ]
  },
  {
   "cell_type": "markdown",
   "id": "aa4fdc23",
   "metadata": {},
   "source": [
    "## Introduction\n",
    "\n",
    "--DeMeco picture here left pane, animation right pane--\n",
    "\n",
    "**DeMeco Ryans**, recognized as the 2022 Assistant Coach of the Year for his role as the 49ers Defensive Coordinator, has championed the concept of swarming to the ball. This philosophy, which [continues to resonate](https://www.houstontexans.com/video/head-coach-demeco-ryans-we-talked-about-a-swarm-mentality-and-that-s-what-we-did) with Ryans in his current position as head coach of the Houston Texans, emphasizes the importance of players converging on a ball carrier with intensity.\n",
    "\n",
    "**Guiding Question:** How can we quantify defensive secondaries' success in limiting YAC via swarm tackling?\n",
    "\n",
    "Leveraging advanced analytics, we introduce a new metric called **PASTA (Path Analysis via Swarm-Tackle Accuracy)** that aims to answer that question using swarm intelligence.\n",
    "\n",
    "-- correlation of PASTA vs. EPA from YAC--"
   ]
  },
  {
   "cell_type": "markdown",
   "id": "2a4da08a",
   "metadata": {},
   "source": [
    "# Mathematical Representation of PSO in Football Context\n",
    "\n",
    "PASTA, grounded in Particle Swarm Optimization (PSO)$^1$, adapts this algorithm, typically inspired by the coordinated behavior of natural swarms like birds and fish(this is what makes our approach biomimetic), for football strategies. PSO excels at optimizing complex problems through iterative solution improvements, making it well-suited for simulating social behaviors of animals. In a football context, each player, akin to a member of a swarm, adjusts their position and strategy relative to others, guided by simple yet effective rules. The collective aim in this case is to minimize the distance to the ball carrier in as little time as possible, mirroring the natural swarms' foraging or hunting strategies.\n",
    "\n",
    "PSO’s mathematical framework involves updating each 'particle's' (player's) velocity and position, considering both their **personal best moves** and the team's **collective best strategies**. The key equations are:\n",
    "\n",
    "1. **Velocity Update Equation:**\n",
    "   $$ V_{ij}(t+1) = w V_{ij}(t) + c_1 r_1 (P_{ij}(t) - X_{ij}(t)) + c_2 r_2 (P_{gj}(t) - X_{ij}(t))$$\n",
    "   \n",
    "This equation reflects how a player (particle) adjusts their movement speed (velocity) based on their current momentum (inertia), personal past successful maneuvers (cognitive component), and the team's overall best past maneuvers (social component). \n",
    "\n",
    "3. **Position Update Equation:**\n",
    "   $$ X_{ij}(t+1) = X_{ij}(t) + V_{ij}(t+1) $$\n",
    "\n",
    "This equation determines the player's new position on the field, based on their updated velocity.\n",
    "\n",
    "Where:\n",
    "- $ X_{ij}(t) $ represents the position of player $ i $ in aspect $ j $ (e.g., X or Y axis on the field) at time $ t $.\n",
    "- $ V_{ij}(t) $ denotes the velocity of player $ i $ in aspect $ j $ at time $ t $.\n",
    "- $ w $ is the inertia weight, balancing exploration (searching new areas) and exploitation (refining current strategies).\n",
    "- $ c_1 $ and $ c_2 $ are acceleration constants that regulate the importance of personal vs. collective experience.\n",
    "- $ r_1 $ and $ r_2 $ are random factors introducing variability and unpredictability in movements.\n",
    "- $ P_{ij}(t) $ is the personal best position achieved by player $ i $ in aspect $ j $ until time $ t $.\n",
    "- $ P_{gj}(t) $ is the best position achieved by any player in aspect $ j $ until time $ t $."
   ]
  },
  {
   "cell_type": "code",
   "execution_count": null,
   "id": "32a85ab2-cfb8-4daf-a828-81ea897bd604",
   "metadata": {},
   "outputs": [],
   "source": []
  },
  {
   "cell_type": "markdown",
   "id": "2a152339",
   "metadata": {},
   "source": [
    "## Attacking the Ball: Adapting PSO to Football\n",
    "### 1. Target Selection \n",
    "Let $ \\vec{P}_i $ be the position vector of the $ i $-th defensive player, and $ \\vec{T}_j $ be the position vector of the $ j $-th potential tackle point along the ball carrier's path. Define the minimum velocity requirement as $ \\vec{V}_{\\text{min}} = (V_{\\text{min}_x}, V_{\\text{min}_y}) $. The objective is to find the tackle point $ \\vec{T}_{\\text{best}} $ that minimizes the total score $ S $, subject to velocity and angle constraints.\n",
    "\n",
    "The total score $ S $ for a tackle point $ \\vec{T}_j $ is given by:\n",
    "\n",
    "$$\n",
    "S(\\vec{T}_j) = \\sum_{i=1}^{N} \\left( w_d \\cdot d(\\vec{P}_i, \\vec{T}_j) + w_{\\theta} \\cdot |\\theta(\\vec{P}_i, \\vec{T}_j)| \\right)\n",
    "$$\n",
    "\n",
    "where:\n",
    "- $ d(\\vec{P}_i, \\vec{T}_j) = \\vec{T}_j - \\vec{P}_i $ is the Euclidean distance between defensive player $ i $ and tackle point $ j $.\n",
    "- $ \\theta(\\vec{P}_i, \\vec{T}_j) $ is the angle between the defensive player's position vector and the tackle point, calculated as $ \\arctan2(T_{jy} - P_{iy}, T_{jx} - P_{ix}) $, with the constraint that $ -\\theta_{\\text{max}} \\leq \\theta \\leq \\theta_{\\text{max}} $.\n",
    "- $ w_d $ and $ w_{\\theta} $ are weighting factors for distance and angle, respectively.\n",
    "\n",
    "The velocity constraint for each defensive player-tackle point pair is:\n",
    "\n",
    "$$\n",
    "|T_{jx} - P_{ix}| \\leq V_{\\text{min}_x} \\cdot j \\quad \\text{and} \\quad |T_{jy} - P_{iy}| \\leq V_{\\text{min}_y} \\cdot j\n",
    "$$\n",
    "\n",
    "If this constraint is violated, the score for that defensive player-tackle point pair is set to infinity.\n",
    "\n",
    "Finally, the best tackle point is chosen as:\n",
    "\n",
    "$$\n",
    "\\vec{T}_{\\text{best}} = \\underset{\\vec{T}_j}{\\mathrm{argmin}}\\, S(\\vec{T}_j)\n",
    "$$\n",
    "\n",
    "\n",
    "### 2. Particle Swarm Optimaztion \n",
    "![image info](images/PSO_Basics.png)\n",
    "### 3. Frechet Distance\n",
    "\n",
    "The Fréchet distance is a measure used to quantify the similarity between two curves, which in our context can represent the actual paths of the defenders and the PSO path. Let $ \\mathcal{P} $ and $ \\mathcal{Q} $ represent the paths of a ball carrier after the completion and a defensive back, respectively, parameterized by continuous variables. The Fréchet distance between $ \\mathcal{P} $ and $ \\mathcal{Q} $ is defined as the minimum \"leash length\" required to connect a point moving along $ \\mathcal{P} $ and another point moving along $ \\mathcal{Q} $, such that both points traverse their respective paths from start to finish.\n",
    "\n",
    "Formally, the Fréchet distance $ F(\\mathcal{P}, \\mathcal{Q}) $ can be defined as:\n",
    "\n",
    "$$\n",
    "F(\\mathcal{P}, \\mathcal{Q}) = \\inf_{\\alpha, \\beta}\\max_{t \\in [0,1]} \\left\\| \\mathcal{P}(\\alpha(t)) - \\mathcal{Q}(\\beta(t)) \\right\\|\n",
    "$$\n",
    "\n",
    "Here, $ \\alpha(t) $ and $ \\beta(t) $ are continuous non-decreasing functions mapping the interval $ [0,1] $ onto the paths $ \\mathcal{P} $ and $ \\mathcal{Q} $, respectively. The distance at any point in time $ t $ is given by the Euclidean distance $ \\left\\| \\mathcal{P}(\\alpha(t)) - \\mathcal{Q}(\\beta(t)) \\right\\| $. The Fréchet distance is the infimum of these distances over all possible mappings $ \\alpha $ and $ \\beta $.\n",
    "\n",
    "In a football game, this metric can be useful for analyzing how closely a defensive player is able to mirror the movements of the PSO path, potentially revealing insights into defensive strategies and player effectiveness.\n"
   ]
  },
  {
   "cell_type": "markdown",
   "id": "9f0669cb",
   "metadata": {},
   "source": [
    "### 4. PASTA Calculation\n",
    "\n",
    "We use frechet distance in yards as the denominator to quantify the difference between the defensive back's actual path and the optimal path to the ball carrier (as determined by the PSO algorithim). The numerator, is based on how many yards after catch (YAC) were given up versus expected $^2$\n",
    "\n",
    "The quotient of these two becomes PASTA. A higher PASTA value could indicate that the DBs close promixity to the optimal path resulted in YAC under expected. \n",
    "\n",
    "$$ \\text{Yards After Catch Under Expected (YUX)} = \\text{Expected Yards After Catch} - \\text{Actual Yards After Catch} $$\n",
    "\n",
    "$$ \\text{PASTA} = \\frac{\\text{YUX}}{\\text{frechet distance per player}} $$\n",
    "\n",
    "Using Fréchet distance per player normalizes for when there is a varying number of defensive backs across plays. Note: this metric quantifies the secondary's ability to swarm to the ball carrier **after** the ball is caught; it does not consider the DBs positioning prior to this point."
   ]
  },
  {
   "cell_type": "markdown",
   "id": "c445b267",
   "metadata": {},
   "source": [
    "## Total Frechet Distance vs. YAC of Teams Across all Plays and All Games \n",
    "\n",
    "--maybe a better title here?--\n",
    "\n",
    "[diagram showing team totals correlation]\n",
    "\n",
    "as you can see, DeMeco Ryans 49ers are top tier in terms of sticking to the optimal path. For more data exploration check out our eda notebook here [link needed]. This chart was the main inspiration for using ben baldwins xyac model to calculate a metric called PASTA. "
   ]
  },
  {
   "cell_type": "markdown",
   "id": "3671052e",
   "metadata": {},
   "source": [
    "## 2022 PASTA Rankings by Team and Player\n",
    "\n",
    "[diagrams]\n",
    "\n",
    "Captions with some further analyis"
   ]
  },
  {
   "cell_type": "markdown",
   "id": "c3d37ff0",
   "metadata": {},
   "source": [
    "## Discussion and Applications\n",
    "PASTA offers vast applications for the NFL as whole, individual teams, the media, and fans.\n",
    "\n",
    "**Player Evaluation:**\n",
    "- **Unexpected YAC Assignment:** A large PASTA value could indicate the DB's close proximity to the optimal path generated YAC under expected. While a small or negative PASTA value could indicate suboptimal pursuit of the ball carrier.\n",
    "- **Synergy in the Secondary:** Locating secondary units or player groupings that work better together to limit YAC.\n",
    "\n",
    "**Coaching Applications:**\n",
    "- **Teachable Moments:** Identifying plays with significant deviations from optimal paths and using them in film study. \n",
    "- **Reinforcement of Successful Strategies:** Highlighting plays where the secondary closely followed the optimal path ot everyone hustled after getting off the optimal early. \n",
    "\n",
    "**Broadcasting and Rankings:**\n",
    "- **On-field Graphics:** Demonstrating defensive prowess through proximity to \"Biomimetic\" or \"AI\" Path on field graphic\n",
    "- **Player and Defense Rankings:** Showcasing how talented players and teams align with optimal paths."
   ]
  },
  {
   "cell_type": "markdown",
   "id": "30dfedf0",
   "metadata": {},
   "source": [
    "## Conclusion\n",
    "PASTA, drawing inspiration from natural efficiency and tailored for football, is poised to revolutionize NFL defensive strategies. Its capacity to assess individual players and units, particularly in expansive coverage, positions it as a versatile and potent tool in strategic defense planning. This metric provides not just tactical insights for coaches but also engaging analytical content for fans and broadcasters."
   ]
  },
  {
   "cell_type": "markdown",
   "id": "ac28f34b",
   "metadata": {},
   "source": [
    "# Citations\n",
    "1. J. Kennedy and R. Eberhart, \"Particle swarm optimization,\" Proceedings of ICNN'95 - International Conference on Neural Networks, Perth, WA, Australia, 1995, pp. 1942-1948 vol.4, doi: 10.1109/ICNN.1995.488968.\n",
    "2. https://opensourcefootball.com/posts/2020-09-28-nflfastr-ep-wp-and-cp-models/"
   ]
  },
  {
   "cell_type": "code",
   "execution_count": null,
   "id": "cbac846b-5f0c-4f60-b02e-55a99abc2779",
   "metadata": {},
   "outputs": [],
   "source": []
  }
 ],
 "metadata": {
  "kernelspec": {
   "display_name": "Python 3 (ipykernel)",
   "language": "python",
   "name": "python3"
  },
  "language_info": {
   "codemirror_mode": {
    "name": "ipython",
    "version": 3
   },
   "file_extension": ".py",
   "mimetype": "text/x-python",
   "name": "python",
   "nbconvert_exporter": "python",
   "pygments_lexer": "ipython3",
   "version": "3.10.13"
  }
 },
 "nbformat": 4,
 "nbformat_minor": 5
}
