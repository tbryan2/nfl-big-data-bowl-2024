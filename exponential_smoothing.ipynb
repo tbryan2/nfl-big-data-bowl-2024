{
 "cells": [
  {
   "cell_type": "code",
   "execution_count": 7,
   "metadata": {},
   "outputs": [],
   "source": [
    "import pandas as pd\n",
    "import numpy as np\n",
    "import matplotlib.pyplot as plt"
   ]
  },
  {
   "cell_type": "code",
   "execution_count": 69,
   "metadata": {},
   "outputs": [],
   "source": [
    "# Exponential smoothing function\n",
    "def exponential_smoothing(series, alpha):\n",
    "    result = np.zeros_like(series)\n",
    "    result[0] = series[0]\n",
    "    for t in range(1, len(series)):\n",
    "        result[t] = alpha * series[t] + (1 - alpha) * result[t - 1]\n",
    "    return result\n",
    "\n",
    "# Assuming positions_history is a numpy array with shape (iterations, agents, 2)\n",
    "positions_history = np.load('positions_history.npy')\n",
    "\n",
    "# Set the smoothing factor (alpha)\n",
    "alpha = 2  # Change this value based on how much smoothing you want\n",
    "\n",
    "# Number of iterations and agents\n",
    "num_iterations, num_agents, _ = positions_history.shape\n",
    "\n",
    "# Initialize an array to store smoothed positions\n",
    "smoothed_positions_history = np.zeros_like(positions_history)\n",
    "\n",
    "# Apply smoothing to each agent's path\n",
    "for agent in range(num_agents):\n",
    "    for dimension in range(2):  # 0 for x, 1 for y\n",
    "        smoothed_positions_history[:, agent, dimension] = exponential_smoothing(positions_history[:, agent, dimension], alpha)"
   ]
  },
  {
   "cell_type": "code",
   "execution_count": 70,
   "metadata": {},
   "outputs": [],
   "source": [
    "# Reshape the array\n",
    "reshaped_array = smoothed_positions_history.reshape(-1, 2)  # This will have a shape of (5000, 2)\n",
    "\n",
    "# Create a DataFrame from the reshaped array\n",
    "df = pd.DataFrame(reshaped_array, columns=['x', 'y'])\n",
    "\n",
    "# Add iteration and agent ID columns\n",
    "df['iteration'] = np.repeat(np.arange(num_iterations), num_agents)\n",
    "df['agent_id'] = np.tile(np.arange(num_agents), num_iterations)\n",
    "\n",
    "# Now df is a DataFrame with columns: 'x', 'y', 'iteration', 'agent_id'"
   ]
  },
  {
   "cell_type": "code",
   "execution_count": 71,
   "metadata": {},
   "outputs": [
    {
     "data": {
      "text/html": [
       "<div>\n",
       "<style scoped>\n",
       "    .dataframe tbody tr th:only-of-type {\n",
       "        vertical-align: middle;\n",
       "    }\n",
       "\n",
       "    .dataframe tbody tr th {\n",
       "        vertical-align: top;\n",
       "    }\n",
       "\n",
       "    .dataframe thead th {\n",
       "        text-align: right;\n",
       "    }\n",
       "</style>\n",
       "<table border=\"1\" class=\"dataframe\">\n",
       "  <thead>\n",
       "    <tr style=\"text-align: right;\">\n",
       "      <th></th>\n",
       "      <th>x</th>\n",
       "      <th>y</th>\n",
       "      <th>iteration</th>\n",
       "      <th>agent_id</th>\n",
       "    </tr>\n",
       "  </thead>\n",
       "  <tbody>\n",
       "    <tr>\n",
       "      <th>0</th>\n",
       "      <td>101.010000</td>\n",
       "      <td>23.800000</td>\n",
       "      <td>0</td>\n",
       "      <td>0</td>\n",
       "    </tr>\n",
       "    <tr>\n",
       "      <th>1</th>\n",
       "      <td>97.840000</td>\n",
       "      <td>20.410000</td>\n",
       "      <td>0</td>\n",
       "      <td>1</td>\n",
       "    </tr>\n",
       "    <tr>\n",
       "      <th>2</th>\n",
       "      <td>90.890000</td>\n",
       "      <td>41.730000</td>\n",
       "      <td>0</td>\n",
       "      <td>2</td>\n",
       "    </tr>\n",
       "    <tr>\n",
       "      <th>3</th>\n",
       "      <td>96.440000</td>\n",
       "      <td>39.940000</td>\n",
       "      <td>0</td>\n",
       "      <td>3</td>\n",
       "    </tr>\n",
       "    <tr>\n",
       "      <th>4</th>\n",
       "      <td>84.520000</td>\n",
       "      <td>29.520000</td>\n",
       "      <td>0</td>\n",
       "      <td>4</td>\n",
       "    </tr>\n",
       "    <tr>\n",
       "      <th>5</th>\n",
       "      <td>84.010170</td>\n",
       "      <td>6.800170</td>\n",
       "      <td>1</td>\n",
       "      <td>0</td>\n",
       "    </tr>\n",
       "    <tr>\n",
       "      <th>6</th>\n",
       "      <td>94.032974</td>\n",
       "      <td>16.760115</td>\n",
       "      <td>1</td>\n",
       "      <td>1</td>\n",
       "    </tr>\n",
       "    <tr>\n",
       "      <th>7</th>\n",
       "      <td>107.889830</td>\n",
       "      <td>24.730170</td>\n",
       "      <td>1</td>\n",
       "      <td>2</td>\n",
       "    </tr>\n",
       "    <tr>\n",
       "      <th>8</th>\n",
       "      <td>97.441106</td>\n",
       "      <td>37.662870</td>\n",
       "      <td>1</td>\n",
       "      <td>3</td>\n",
       "    </tr>\n",
       "    <tr>\n",
       "      <th>9</th>\n",
       "      <td>101.519830</td>\n",
       "      <td>42.369329</td>\n",
       "      <td>1</td>\n",
       "      <td>4</td>\n",
       "    </tr>\n",
       "  </tbody>\n",
       "</table>\n",
       "</div>"
      ],
      "text/plain": [
       "            x          y  iteration  agent_id\n",
       "0  101.010000  23.800000          0         0\n",
       "1   97.840000  20.410000          0         1\n",
       "2   90.890000  41.730000          0         2\n",
       "3   96.440000  39.940000          0         3\n",
       "4   84.520000  29.520000          0         4\n",
       "5   84.010170   6.800170          1         0\n",
       "6   94.032974  16.760115          1         1\n",
       "7  107.889830  24.730170          1         2\n",
       "8   97.441106  37.662870          1         3\n",
       "9  101.519830  42.369329          1         4"
      ]
     },
     "execution_count": 71,
     "metadata": {},
     "output_type": "execute_result"
    }
   ],
   "source": [
    "df.head(10)"
   ]
  },
  {
   "cell_type": "code",
   "execution_count": 73,
   "metadata": {},
   "outputs": [
    {
     "data": {
      "text/plain": [
       "<matplotlib.collections.PathCollection at 0x7fe292c9a160>"
      ]
     },
     "execution_count": 73,
     "metadata": {},
     "output_type": "execute_result"
    },
    {
     "data": {
      "image/png": "[encoded data removed]",
      "text/plain": [
       "<Figure size 720x720 with 1 Axes>"
      ]
     },
     "metadata": {
      "needs_background": "light"
     },
     "output_type": "display_data"
    }
   ],
   "source": [
    "# plot only for agent_id = 0\n",
    "plt.figure(figsize=(10, 10))\n",
    "plt.scatter(df[df['agent_id'] == 1]['x'], df[df['agent_id'] == 1]['y'])"
   ]
  },
  {
   "cell_type": "code",
   "execution_count": null,
   "metadata": {},
   "outputs": [],
   "source": []
  }
 ],
 "metadata": {
  "kernelspec": {
   "display_name": "Python 3",
   "language": "python",
   "name": "python3"
  },
  "language_info": {
   "codemirror_mode": {
    "name": "ipython",
    "version": 3
   },
   "file_extension": ".py",
   "mimetype": "text/x-python",
   "name": "python",
   "nbconvert_exporter": "python",
   "pygments_lexer": "ipython3",
   "version": "3.8.3"
  }
 },
 "nbformat": 4,
 "nbformat_minor": 2
}
