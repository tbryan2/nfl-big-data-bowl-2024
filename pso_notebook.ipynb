{
 "cells": [
  {
   "cell_type": "code",
   "execution_count": 1,
   "metadata": {},
   "outputs": [],
   "source": [
    "from pso_model_pipeline import run_pso_pipeline"
   ]
  },
  {
   "cell_type": "code",
   "execution_count": 2,
   "metadata": {},
   "outputs": [
    {
     "name": "stdout",
     "output_type": "stream",
     "text": [
      "Skipping play ID 218: No handoff or pass outcome caught.\n",
      "Skipping play ID 719: No handoff or pass outcome caught.\n",
      "Skipping play ID 1204: No handoff or pass outcome caught.\n",
      "Skipping play ID 1562: No handoff or pass outcome caught.\n",
      "Skipping play ID 1700: No handoff or pass outcome caught.\n",
      "Skipping play ID 1726: No handoff or pass outcome caught.\n",
      "Skipping play ID 1907: No handoff or pass outcome caught.\n",
      "Skipping play ID 1928: No handoff or pass outcome caught.\n",
      "Skipping play ID 2331: No handoff or pass outcome caught.\n",
      "Skipping play ID 2373: No handoff or pass outcome caught.\n",
      "Skipping play ID 2837: No handoff or pass outcome caught.\n",
      "Skipping play ID 2966: No handoff or pass outcome caught.\n",
      "Skipping play ID 3064: No handoff or pass outcome caught.\n",
      "Skipping play ID 3315: No handoff or pass outcome caught.\n",
      "Skipping play ID 3360: No handoff or pass outcome caught.\n",
      "Skipping play ID 3449: No handoff or pass outcome caught.\n",
      "Skipping play ID 3652: No handoff or pass outcome caught.\n",
      "Skipping play ID 3739: No handoff or pass outcome caught.\n",
      "Skipping play ID 3807: No handoff or pass outcome caught.\n",
      "Skipping play ID 4102: No handoff or pass outcome caught.\n",
      "Skipping play ID 4145: No handoff or pass outcome caught.\n"
     ]
    }
   ],
   "source": [
    "df = run_pso_pipeline(1, 2022091102)"
   ]
  },
  {
   "cell_type": "code",
   "execution_count": 3,
   "metadata": {},
   "outputs": [
    {
     "data": {
      "text/plain": [
       "327"
      ]
     },
     "execution_count": 3,
     "metadata": {},
     "output_type": "execute_result"
    }
   ],
   "source": [
    "len(df)"
   ]
  },
  {
   "cell_type": "code",
   "execution_count": 4,
   "metadata": {},
   "outputs": [],
   "source": [
    "df.to_csv('pso_model_pipeline_test.csv', index=False)"
   ]
  },
  {
   "cell_type": "code",
   "execution_count": 5,
   "metadata": {},
   "outputs": [
    {
     "data": {
      "text/html": [
       "<div>\n",
       "<style scoped>\n",
       "    .dataframe tbody tr th:only-of-type {\n",
       "        vertical-align: middle;\n",
       "    }\n",
       "\n",
       "    .dataframe tbody tr th {\n",
       "        vertical-align: top;\n",
       "    }\n",
       "\n",
       "    .dataframe thead th {\n",
       "        text-align: right;\n",
       "    }\n",
       "</style>\n",
       "<table border=\"1\" class=\"dataframe\">\n",
       "  <thead>\n",
       "    <tr style=\"text-align: right;\">\n",
       "      <th></th>\n",
       "      <th>frechet_distance</th>\n",
       "      <th>play_id</th>\n",
       "      <th>game_id</th>\n",
       "      <th>week_num</th>\n",
       "    </tr>\n",
       "    <tr>\n",
       "      <th>nflId</th>\n",
       "      <th></th>\n",
       "      <th></th>\n",
       "      <th></th>\n",
       "      <th></th>\n",
       "    </tr>\n",
       "  </thead>\n",
       "  <tbody>\n",
       "    <tr>\n",
       "      <th>38868.0</th>\n",
       "      <td>5.871516</td>\n",
       "      <td>86</td>\n",
       "      <td>2022091102</td>\n",
       "      <td>1</td>\n",
       "    </tr>\n",
       "    <tr>\n",
       "      <th>46354.0</th>\n",
       "      <td>3.143940</td>\n",
       "      <td>86</td>\n",
       "      <td>2022091102</td>\n",
       "      <td>1</td>\n",
       "    </tr>\n",
       "    <tr>\n",
       "      <th>46757.0</th>\n",
       "      <td>12.462981</td>\n",
       "      <td>86</td>\n",
       "      <td>2022091102</td>\n",
       "      <td>1</td>\n",
       "    </tr>\n",
       "    <tr>\n",
       "      <th>53609.0</th>\n",
       "      <td>8.933018</td>\n",
       "      <td>86</td>\n",
       "      <td>2022091102</td>\n",
       "      <td>1</td>\n",
       "    </tr>\n",
       "    <tr>\n",
       "      <th>54637.0</th>\n",
       "      <td>4.312592</td>\n",
       "      <td>86</td>\n",
       "      <td>2022091102</td>\n",
       "      <td>1</td>\n",
       "    </tr>\n",
       "    <tr>\n",
       "      <th>...</th>\n",
       "      <td>...</td>\n",
       "      <td>...</td>\n",
       "      <td>...</td>\n",
       "      <td>...</td>\n",
       "    </tr>\n",
       "    <tr>\n",
       "      <th>53609.0</th>\n",
       "      <td>2.511095</td>\n",
       "      <td>3981</td>\n",
       "      <td>2022091102</td>\n",
       "      <td>1</td>\n",
       "    </tr>\n",
       "    <tr>\n",
       "      <th>38868.0</th>\n",
       "      <td>2.323820</td>\n",
       "      <td>4019</td>\n",
       "      <td>2022091102</td>\n",
       "      <td>1</td>\n",
       "    </tr>\n",
       "    <tr>\n",
       "      <th>46354.0</th>\n",
       "      <td>3.531002</td>\n",
       "      <td>4019</td>\n",
       "      <td>2022091102</td>\n",
       "      <td>1</td>\n",
       "    </tr>\n",
       "    <tr>\n",
       "      <th>46757.0</th>\n",
       "      <td>4.072871</td>\n",
       "      <td>4019</td>\n",
       "      <td>2022091102</td>\n",
       "      <td>1</td>\n",
       "    </tr>\n",
       "    <tr>\n",
       "      <th>53609.0</th>\n",
       "      <td>4.055045</td>\n",
       "      <td>4019</td>\n",
       "      <td>2022091102</td>\n",
       "      <td>1</td>\n",
       "    </tr>\n",
       "  </tbody>\n",
       "</table>\n",
       "<p>327 rows × 4 columns</p>\n",
       "</div>"
      ],
      "text/plain": [
       "         frechet_distance  play_id     game_id  week_num\n",
       "nflId                                                   \n",
       "38868.0          5.871516       86  2022091102         1\n",
       "46354.0          3.143940       86  2022091102         1\n",
       "46757.0         12.462981       86  2022091102         1\n",
       "53609.0          8.933018       86  2022091102         1\n",
       "54637.0          4.312592       86  2022091102         1\n",
       "...                   ...      ...         ...       ...\n",
       "53609.0          2.511095     3981  2022091102         1\n",
       "38868.0          2.323820     4019  2022091102         1\n",
       "46354.0          3.531002     4019  2022091102         1\n",
       "46757.0          4.072871     4019  2022091102         1\n",
       "53609.0          4.055045     4019  2022091102         1\n",
       "\n",
       "[327 rows x 4 columns]"
      ]
     },
     "execution_count": 5,
     "metadata": {},
     "output_type": "execute_result"
    }
   ],
   "source": [
    "df"
   ]
  },
  {
   "cell_type": "code",
   "execution_count": 6,
   "metadata": {},
   "outputs": [
    {
     "data": {
      "text/plain": [
       "Text(0, 0.5, 'Count')"
      ]
     },
     "execution_count": 6,
     "metadata": {},
     "output_type": "execute_result"
    },
    {
     "data": {
      "image/png": "[encoded data removed]",
      "text/plain": [
       "<Figure size 720x432 with 1 Axes>"
      ]
     },
     "metadata": {
      "needs_background": "light"
     },
     "output_type": "display_data"
    }
   ],
   "source": [
    "# create a distribution of the frechet distance\n",
    "import matplotlib.pyplot as plt\n",
    "import numpy as np\n",
    "import seaborn as sns\n",
    "sns.set_style('whitegrid')\n",
    "\n",
    "plt.figure(figsize=(10, 6))\n",
    "plt.hist(df['frechet_distance'], bins=100)\n",
    "plt.xlabel('Frechet Distance')\n",
    "plt.ylabel('Count')"
   ]
  },
  {
   "cell_type": "code",
   "execution_count": null,
   "metadata": {},
   "outputs": [],
   "source": []
  }
 ],
 "metadata": {
  "kernelspec": {
   "display_name": "Python 3 (ipykernel)",
   "language": "python",
   "name": "python3"
  },
  "language_info": {
   "codemirror_mode": {
    "name": "ipython",
    "version": 3
   },
   "file_extension": ".py",
   "mimetype": "text/x-python",
   "name": "python",
   "nbconvert_exporter": "python",
   "pygments_lexer": "ipython3",
   "version": "3.8.3"
  }
 },
 "nbformat": 4,
 "nbformat_minor": 4
}
