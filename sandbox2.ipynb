{
 "cells": [
  {
   "cell_type": "markdown",
   "metadata": {},
   "source": [
    "#### Dependencies"
   ]
  },
  {
   "cell_type": "code",
   "execution_count": 1,
   "metadata": {},
   "outputs": [],
   "source": [
    "import pandas as pd\n",
    "import matplotlib.pyplot as plt\n",
    "from matplotlib.animation import FuncAnimation\n",
    "\n",
    "import nfl_data_py as nfl"
   ]
  },
  {
   "cell_type": "markdown",
   "metadata": {},
   "source": [
    "The goal of this iteration is to train on a model on the optimal path a defender could take to succesfully tackle a ball carrier.\n",
    "\n",
    "Features:\n",
    "\n",
    "- Ball carrier metrics\n",
    "- Tackler (or group of tackler) metrics\n",
    "- Non-ball carrier metrics\n",
    "- Distance to sideline"
   ]
  },
  {
   "cell_type": "markdown",
   "metadata": {},
   "source": [
    "### Loading the Data"
   ]
  },
  {
   "cell_type": "code",
   "execution_count": 2,
   "metadata": {},
   "outputs": [],
   "source": [
    "# Turn off pandas column limit\n",
    "pd.set_option('display.max_columns', None)"
   ]
  },
  {
   "cell_type": "code",
   "execution_count": 3,
   "metadata": {},
   "outputs": [],
   "source": [
    "# Read in the data\n",
    "df = pd.read_csv(\"data/tracking_week_1.csv\")"
   ]
  },
  {
   "cell_type": "code",
   "execution_count": 5,
   "metadata": {},
   "outputs": [
    {
     "data": {
      "text/html": [
       "<div>\n",
       "<style scoped>\n",
       "    .dataframe tbody tr th:only-of-type {\n",
       "        vertical-align: middle;\n",
       "    }\n",
       "\n",
       "    .dataframe tbody tr th {\n",
       "        vertical-align: top;\n",
       "    }\n",
       "\n",
       "    .dataframe thead th {\n",
       "        text-align: right;\n",
       "    }\n",
       "</style>\n",
       "<table border=\"1\" class=\"dataframe\">\n",
       "  <thead>\n",
       "    <tr style=\"text-align: right;\">\n",
       "      <th></th>\n",
       "      <th>gameId</th>\n",
       "      <th>playId</th>\n",
       "      <th>nflId</th>\n",
       "      <th>displayName</th>\n",
       "      <th>frameId</th>\n",
       "      <th>time</th>\n",
       "      <th>jerseyNumber</th>\n",
       "      <th>club</th>\n",
       "      <th>playDirection</th>\n",
       "      <th>x</th>\n",
       "      <th>y</th>\n",
       "      <th>s</th>\n",
       "      <th>a</th>\n",
       "      <th>dis</th>\n",
       "      <th>o</th>\n",
       "      <th>dir</th>\n",
       "      <th>event</th>\n",
       "    </tr>\n",
       "  </thead>\n",
       "  <tbody>\n",
       "    <tr>\n",
       "      <th>0</th>\n",
       "      <td>2022090800</td>\n",
       "      <td>56</td>\n",
       "      <td>35472.0</td>\n",
       "      <td>Rodger Saffold</td>\n",
       "      <td>1</td>\n",
       "      <td>2022-09-08 20:24:05.200000</td>\n",
       "      <td>76.0</td>\n",
       "      <td>BUF</td>\n",
       "      <td>left</td>\n",
       "      <td>88.37</td>\n",
       "      <td>27.27</td>\n",
       "      <td>1.62</td>\n",
       "      <td>1.15</td>\n",
       "      <td>0.16</td>\n",
       "      <td>231.74</td>\n",
       "      <td>147.90</td>\n",
       "      <td>NaN</td>\n",
       "    </tr>\n",
       "    <tr>\n",
       "      <th>1</th>\n",
       "      <td>2022090800</td>\n",
       "      <td>56</td>\n",
       "      <td>35472.0</td>\n",
       "      <td>Rodger Saffold</td>\n",
       "      <td>2</td>\n",
       "      <td>2022-09-08 20:24:05.299999</td>\n",
       "      <td>76.0</td>\n",
       "      <td>BUF</td>\n",
       "      <td>left</td>\n",
       "      <td>88.47</td>\n",
       "      <td>27.13</td>\n",
       "      <td>1.67</td>\n",
       "      <td>0.61</td>\n",
       "      <td>0.17</td>\n",
       "      <td>230.98</td>\n",
       "      <td>148.53</td>\n",
       "      <td>pass_arrived</td>\n",
       "    </tr>\n",
       "    <tr>\n",
       "      <th>2</th>\n",
       "      <td>2022090800</td>\n",
       "      <td>56</td>\n",
       "      <td>35472.0</td>\n",
       "      <td>Rodger Saffold</td>\n",
       "      <td>3</td>\n",
       "      <td>2022-09-08 20:24:05.400000</td>\n",
       "      <td>76.0</td>\n",
       "      <td>BUF</td>\n",
       "      <td>left</td>\n",
       "      <td>88.56</td>\n",
       "      <td>27.01</td>\n",
       "      <td>1.57</td>\n",
       "      <td>0.49</td>\n",
       "      <td>0.15</td>\n",
       "      <td>230.98</td>\n",
       "      <td>147.05</td>\n",
       "      <td>NaN</td>\n",
       "    </tr>\n",
       "    <tr>\n",
       "      <th>3</th>\n",
       "      <td>2022090800</td>\n",
       "      <td>56</td>\n",
       "      <td>35472.0</td>\n",
       "      <td>Rodger Saffold</td>\n",
       "      <td>4</td>\n",
       "      <td>2022-09-08 20:24:05.500000</td>\n",
       "      <td>76.0</td>\n",
       "      <td>BUF</td>\n",
       "      <td>left</td>\n",
       "      <td>88.64</td>\n",
       "      <td>26.90</td>\n",
       "      <td>1.44</td>\n",
       "      <td>0.89</td>\n",
       "      <td>0.14</td>\n",
       "      <td>232.38</td>\n",
       "      <td>145.42</td>\n",
       "      <td>NaN</td>\n",
       "    </tr>\n",
       "    <tr>\n",
       "      <th>4</th>\n",
       "      <td>2022090800</td>\n",
       "      <td>56</td>\n",
       "      <td>35472.0</td>\n",
       "      <td>Rodger Saffold</td>\n",
       "      <td>5</td>\n",
       "      <td>2022-09-08 20:24:05.599999</td>\n",
       "      <td>76.0</td>\n",
       "      <td>BUF</td>\n",
       "      <td>left</td>\n",
       "      <td>88.72</td>\n",
       "      <td>26.80</td>\n",
       "      <td>1.29</td>\n",
       "      <td>1.24</td>\n",
       "      <td>0.13</td>\n",
       "      <td>233.36</td>\n",
       "      <td>141.95</td>\n",
       "      <td>NaN</td>\n",
       "    </tr>\n",
       "  </tbody>\n",
       "</table>\n",
       "</div>"
      ],
      "text/plain": [
       "       gameId  playId    nflId     displayName  frameId  \\\n",
       "0  2022090800      56  35472.0  Rodger Saffold        1   \n",
       "1  2022090800      56  35472.0  Rodger Saffold        2   \n",
       "2  2022090800      56  35472.0  Rodger Saffold        3   \n",
       "3  2022090800      56  35472.0  Rodger Saffold        4   \n",
       "4  2022090800      56  35472.0  Rodger Saffold        5   \n",
       "\n",
       "                         time  jerseyNumber club playDirection      x      y  \\\n",
       "0  2022-09-08 20:24:05.200000          76.0  BUF          left  88.37  27.27   \n",
       "1  2022-09-08 20:24:05.299999          76.0  BUF          left  88.47  27.13   \n",
       "2  2022-09-08 20:24:05.400000          76.0  BUF          left  88.56  27.01   \n",
       "3  2022-09-08 20:24:05.500000          76.0  BUF          left  88.64  26.90   \n",
       "4  2022-09-08 20:24:05.599999          76.0  BUF          left  88.72  26.80   \n",
       "\n",
       "      s     a   dis       o     dir         event  \n",
       "0  1.62  1.15  0.16  231.74  147.90           NaN  \n",
       "1  1.67  0.61  0.17  230.98  148.53  pass_arrived  \n",
       "2  1.57  0.49  0.15  230.98  147.05           NaN  \n",
       "3  1.44  0.89  0.14  232.38  145.42           NaN  \n",
       "4  1.29  1.24  0.13  233.36  141.95           NaN  "
      ]
     },
     "execution_count": 5,
     "metadata": {},
     "output_type": "execute_result"
    }
   ],
   "source": [
    "df.head()"
   ]
  },
  {
   "cell_type": "markdown",
   "metadata": {},
   "source": [
    "#### Cleaning and Preparing the Data"
   ]
  },
  {
   "cell_type": "markdown",
   "metadata": {},
   "source": [
    "Remove any rows prior to the ball arriving with the ball carrier"
   ]
  },
  {
   "cell_type": "code",
   "execution_count": 6,
   "metadata": {},
   "outputs": [
    {
     "data": {
      "text/plain": [
       "event\n",
       "first_contact                28773\n",
       "tackle                       26928\n",
       "ball_snap                    16415\n",
       "pass_outcome_caught          15870\n",
       "handoff                      15364\n",
       "pass_arrived                 13915\n",
       "out_of_bounds                 5037\n",
       "run                           2737\n",
       "man_in_motion                 1288\n",
       "play_action                   1035\n",
       "touchdown                     1012\n",
       "fumble                         621\n",
       "shift                          368\n",
       "qb_slide                       350\n",
       "pass_forward                   248\n",
       "snap_direct                     46\n",
       "line_set                        46\n",
       "lateral                         45\n",
       "autoevent_ballsnap              30\n",
       "run_pass_option                 23\n",
       "qb_sack                         23\n",
       "pass_shovel                     23\n",
       "fumble_defense_recovered        23\n",
       "fumble_offense_recovered        23\n",
       "autoevent_passinterrupted       16\n",
       "autoevent_passforward            9\n",
       "Name: count, dtype: int64"
      ]
     },
     "execution_count": 6,
     "metadata": {},
     "output_type": "execute_result"
    }
   ],
   "source": [
    "# Value count of event\n",
    "df['event'].value_counts()"
   ]
  },
  {
   "cell_type": "code",
   "execution_count": null,
   "metadata": {},
   "outputs": [],
   "source": []
  }
 ],
 "metadata": {
  "kernelspec": {
   "display_name": "Python 3",
   "language": "python",
   "name": "python3"
  },
  "language_info": {
   "codemirror_mode": {
    "name": "ipython",
    "version": 3
   },
   "file_extension": ".py",
   "mimetype": "text/x-python",
   "name": "python",
   "nbconvert_exporter": "python",
   "pygments_lexer": "ipython3",
   "version": "3.9.17"
  }
 },
 "nbformat": 4,
 "nbformat_minor": 2
}
