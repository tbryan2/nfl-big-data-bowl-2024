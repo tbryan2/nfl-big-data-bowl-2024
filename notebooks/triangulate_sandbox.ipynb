{
 "cells": [
  {
   "cell_type": "code",
   "execution_count": 1,
   "metadata": {},
   "outputs": [
    {
     "name": "stdout",
     "output_type": "stream",
     "text": [
      "pygame 2.5.2 (SDL 2.28.3, Python 3.8.9)\n",
      "Hello from the pygame community. https://www.pygame.org/contribute.html\n"
     ]
    }
   ],
   "source": [
    "# Custom dependencies\n",
    "from FootballPlay import FootballPlay\n",
    "from PreprocessTrackingData import PreprocessTrackingData\n",
    "from scipy.spatial import Delaunay\n",
    "import tkinter as tk\n",
    "from tkinter import ttk\n",
    "from matplotlib.backends.backend_tkagg import FigureCanvasTkAgg\n",
    "import pandas as pd\n",
    "import matplotlib.animation as animation\n",
    "from matplotlib import pyplot as plt\n",
    "import matplotlib.patches as patches\n",
    "import sys\n",
    "\n",
    "import pandas as pd\n",
    "import numpy as np"
   ]
  },
  {
   "cell_type": "code",
   "execution_count": 2,
   "metadata": {},
   "outputs": [],
   "source": [
    "# Read in the data\n",
    "tracking = pd.read_csv(\"data/tracking_week_4.csv\")\n",
    "plays = pd.read_csv(\"data/plays.csv\")\n",
    "players = pd.read_csv(\"data/players.csv\")\n",
    "colors = pd.read_csv(\"data/colors.csv\")"
   ]
  },
  {
   "cell_type": "code",
   "execution_count": 3,
   "metadata": {},
   "outputs": [],
   "source": [
    "# Select game and play\n",
    "gameId = 2022100300\n",
    "playId = 3939\n",
    "nflId = 43321"
   ]
  },
  {
   "cell_type": "code",
   "execution_count": 4,
   "metadata": {},
   "outputs": [],
   "source": [
    "# Define preprocessor\n",
    "preprocessor = PreprocessTrackingData(tracking, \n",
    "                                      plays,\n",
    "                                      players,\n",
    "                                      colors,\n",
    "                                      gameId, \n",
    "                                      playId\n",
    "                                      )"
   ]
  },
  {
   "cell_type": "code",
   "execution_count": 7,
   "metadata": {},
   "outputs": [],
   "source": [
    "df = preprocessor.triangulate()"
   ]
  },
  {
   "cell_type": "code",
   "execution_count": 8,
   "metadata": {},
   "outputs": [],
   "source": [
    "def create_football_field(fig, ax, line_color='black', field_color='white'):\n",
    "    plt.xlim(0, 120)\n",
    "    plt.ylim(0, 53.3)\n",
    "\n",
    "    for i in range(12):\n",
    "        rect = patches.Rectangle((10*i, 0), 10, 53.3, linewidth=1, edgecolor=line_color, facecolor=field_color)\n",
    "        ax.add_patch(rect)\n",
    "\n",
    "    ax.tick_params(\n",
    "        axis='both', \n",
    "        which='both', \n",
    "        direction='in', \n",
    "        pad=-40, \n",
    "        length=5, \n",
    "        bottom=True, \n",
    "        top=True, \n",
    "        labeltop=True, \n",
    "        labelbottom=True, \n",
    "        left=False, right=False, \n",
    "        labelleft=False, \n",
    "        labelright=False, \n",
    "        color=line_color\n",
    "    )\n",
    "    ax.set_xticks([i for i in range(10, 111)])\n",
    "    label_set = []\n",
    "    for i in range(1, 10):\n",
    "        label_set += [\" \" for j in range(9)] + [str(i*10) if i <= 5 else str((10-i)*10)]\n",
    "    label_set = [\" \"] + label_set + [\" \" for j in range(10)]\n",
    "    ax.set_xticklabels(label_set, fontsize=20, color=line_color)\n",
    "    return fig, ax"
   ]
  },
  {
   "cell_type": "code",
   "execution_count": 22,
   "metadata": {},
   "outputs": [
    {
     "data": {
      "image/png": "[encoded data removed]",
      "text/plain": [
       "<Figure size 640x480 with 1 Axes>"
      ]
     },
     "metadata": {},
     "output_type": "display_data"
    }
   ],
   "source": [
    "team1 = df[(df['club'] == 'LA') & (df['frameId'] == 40)]\n",
    "team2 = df[(df['club'] == 'SF') & (df['frameId'] == 40)]\n",
    "\n",
    "p1 = np.array(team1[['x','y']])\n",
    "\n",
    "p2 = np.array(team2[['x','y']])\n",
    "\n",
    "col1 = team1[['team_color','team_color2']].drop_duplicates()\n",
    "col2 = team2[['team_color','team_color2']]\n",
    "\n",
    "\n",
    "fig, ax = plt.subplots()\n",
    "fig, ax = create_football_field(fig, ax)\n",
    "ax.set_xlim(0, 120)\n",
    "ax.set_ylim(0, 53.3)\n",
    "\n",
    "tri = Delaunay(p1, furthest_site=False)\n",
    "tri2 = Delaunay(p2, furthest_site=False)\n",
    "# https://docs.scipy.org/doc/scipy/reference/generated/scipy.spatial.Delaunay.html\n",
    "\n",
    "import matplotlib.pyplot as plt\n",
    "plt.triplot(p1[:,0], p1[:,1], tri.simplices, color = col1['team_color2'].values[0])\n",
    "plt.triplot(p2[:,0], p2[:,1], tri.simplices, color = col2['team_color2'].values[0])\n",
    "plt.plot(p1[:,0], p1[:,1], 'o', color = col1['team_color'].values[0])\n",
    "plt.plot(p2[:,0], p2[:,1], 'o', color = col2['team_color'].values[0])\n",
    "plt.show()"
   ]
  },
  {
   "cell_type": "code",
   "execution_count": null,
   "metadata": {},
   "outputs": [],
   "source": [
    "tri."
   ]
  },
  {
   "cell_type": "code",
   "execution_count": 25,
   "metadata": {},
   "outputs": [
    {
     "data": {
      "text/plain": [
       "array([[11, -1,  4],\n",
       "       [ 2, -1,  5],\n",
       "       [ 3,  1,  6],\n",
       "       [-1,  2,  8],\n",
       "       [ 0, -1,  7],\n",
       "       [ 1, 13,  6],\n",
       "       [12,  2,  5],\n",
       "       [10,  4,  9],\n",
       "       [ 3, 12,  9],\n",
       "       [ 7,  8, 10],\n",
       "       [11,  7,  9],\n",
       "       [-1,  0, 10],\n",
       "       [ 8,  6, 13],\n",
       "       [ 5, -1, 12]], dtype=int32)"
      ]
     },
     "execution_count": 25,
     "metadata": {},
     "output_type": "execute_result"
    }
   ],
   "source": [
    "tri.neighbors"
   ]
  },
  {
   "cell_type": "code",
   "execution_count": 10,
   "metadata": {},
   "outputs": [
    {
     "data": {
      "text/plain": [
       "array([[0, 4],\n",
       "       [9, 4],\n",
       "       [9, 8],\n",
       "       [2, 0],\n",
       "       [2, 5],\n",
       "       [5, 8]], dtype=int32)"
      ]
     },
     "execution_count": 10,
     "metadata": {},
     "output_type": "execute_result"
    }
   ],
   "source": [
    "tri.convex_hull"
   ]
  },
  {
   "cell_type": "code",
   "execution_count": 11,
   "metadata": {},
   "outputs": [
    {
     "data": {
      "text/plain": [
       "array([58.25, 33.6 ])"
      ]
     },
     "execution_count": 11,
     "metadata": {},
     "output_type": "execute_result"
    }
   ],
   "source": [
    "tri.max_bound"
   ]
  },
  {
   "cell_type": "code",
   "execution_count": 12,
   "metadata": {},
   "outputs": [
    {
     "data": {
      "text/plain": [
       "array([44.65, 16.33])"
      ]
     },
     "execution_count": 12,
     "metadata": {},
     "output_type": "execute_result"
    }
   ],
   "source": [
    "tri.min_bound"
   ]
  },
  {
   "cell_type": "code",
   "execution_count": 13,
   "metadata": {},
   "outputs": [
    {
     "data": {
      "text/plain": [
       "0.02206989929249207"
      ]
     },
     "execution_count": 13,
     "metadata": {},
     "output_type": "execute_result"
    }
   ],
   "source": [
    "tri.paraboloid_scale"
   ]
  },
  {
   "cell_type": "code",
   "execution_count": 14,
   "metadata": {},
   "outputs": [
    {
     "data": {
      "text/plain": [
       "-51.530639290721545"
      ]
     },
     "execution_count": 14,
     "metadata": {},
     "output_type": "execute_result"
    }
   ],
   "source": [
    "tri.paraboloid_shift"
   ]
  },
  {
   "cell_type": "code",
   "execution_count": 15,
   "metadata": {},
   "outputs": [
    {
     "data": {
      "text/plain": [
       "array([[  0.7909914 ,   0.50041852,  -0.35201407, -45.89761263],\n",
       "       [  0.82756316,   0.42020569,  -0.37224507, -45.07426877],\n",
       "       [  0.53100742,   0.59217751,  -0.60609975, -34.34910221],\n",
       "       [  0.83505332,   0.40505811,  -0.37230886, -45.08322215],\n",
       "       [  0.84131   ,   0.38792071,  -0.37645053, -44.9749196 ],\n",
       "       [  0.87395161,   0.24939715,  -0.41714464, -43.71094543],\n",
       "       [  0.84313486,   0.35161208,  -0.40680776, -44.13227632],\n",
       "       [  0.94021761,   0.23689936,  -0.24468253, -50.91668275],\n",
       "       [  0.86723202,   0.35920824,  -0.34478698, -46.61680596],\n",
       "       [  0.88481801,   0.28720725,  -0.36689112, -45.56263611],\n",
       "       [  0.87822374,   0.30214888,  -0.37071432, -45.40730875],\n",
       "       [  0.85760252,   0.34991227,  -0.37693412, -45.08690756],\n",
       "       [  0.87830056,   0.28454457,  -0.38421675, -44.92617941],\n",
       "       [  0.87101766,   0.29300507,  -0.39430478, -44.56195682]])"
      ]
     },
     "execution_count": 15,
     "metadata": {},
     "output_type": "execute_result"
    }
   ],
   "source": [
    "tri.equations"
   ]
  },
  {
   "cell_type": "code",
   "execution_count": 18,
   "metadata": {},
   "outputs": [
    {
     "data": {
      "text/plain": [
       "2"
      ]
     },
     "execution_count": 18,
     "metadata": {},
     "output_type": "execute_result"
    }
   ],
   "source": [
    "tri."
   ]
  },
  {
   "cell_type": "code",
   "execution_count": null,
   "metadata": {},
   "outputs": [],
   "source": []
  }
 ],
 "metadata": {
  "kernelspec": {
   "display_name": "Python 3.8.9 64-bit",
   "language": "python",
   "name": "python3"
  },
  "language_info": {
   "codemirror_mode": {
    "name": "ipython",
    "version": 3
   },
   "file_extension": ".py",
   "mimetype": "text/x-python",
   "name": "python",
   "nbconvert_exporter": "python",
   "pygments_lexer": "ipython3",
   "version": "3.8.9"
  },
  "orig_nbformat": 4,
  "vscode": {
   "interpreter": {
    "hash": "31f2aee4e71d21fbe5cf8b01ff0e069b9275f58929596ceb00d14d90e3e16cd6"
   }
  }
 },
 "nbformat": 4,
 "nbformat_minor": 2
}
