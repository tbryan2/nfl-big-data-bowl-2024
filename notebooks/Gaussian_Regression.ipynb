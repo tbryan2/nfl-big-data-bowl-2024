{
 "cells": [
  {
   "cell_type": "code",
   "execution_count": 2,
   "metadata": {},
   "outputs": [
    {
     "name": "stdout",
     "output_type": "stream",
     "text": [
      "Note: you may need to restart the kernel to use updated packages.\n"
     ]
    },
    {
     "name": "stderr",
     "output_type": "stream",
     "text": [
      "\n",
      "[notice] A new release of pip is available: 23.2.1 -> 23.3.1\n",
      "[notice] To update, run: python.exe -m pip install --upgrade pip\n"
     ]
    }
   ],
   "source": [
    "%pip install scikit-learn matplotlib pandas --quiet"
   ]
  },
  {
   "cell_type": "code",
   "execution_count": 3,
   "metadata": {
    "id": "_B53Dy4fVARN"
   },
   "outputs": [],
   "source": [
    "import pandas as pd\n",
    "import numpy as np\n",
    "\n",
    "from sklearn.gaussian_process import GaussianProcessRegressor\n",
    "from sklearn.gaussian_process.kernels import RBF\n",
    "\n",
    "from sklearn.model_selection import train_test_split\n",
    "from sklearn.metrics import mean_absolute_error\n",
    "\n",
    "import numpy as np\n",
    "import matplotlib.pyplot as plt\n",
    "from scipy.stats import multivariate_normal\n",
    "import matplotlib.pyplot as plt\n",
    "import matplotlib.patches as patches\n",
    "\n",
    "import matplotlib.pyplot as plt"
   ]
  },
  {
   "cell_type": "code",
   "execution_count": 4,
   "metadata": {
    "id": "2OBCCmZbVLG3"
   },
   "outputs": [],
   "source": [
    "# load data\n",
    "df = pd.read_csv('https://bigdatabowl2023.nyc3.cdn.digitaloceanspaces.com/raw/tracking_data/tracking_week_1.csv')\n",
    "games = pd.read_csv('https://bigdatabowl2023.nyc3.cdn.digitaloceanspaces.com/raw/games.csv')\n",
    "plays = pd.read_csv('https://bigdatabowl2023.nyc3.cdn.digitaloceanspaces.com/raw/plays.csv')"
   ]
  },
  {
   "cell_type": "code",
   "execution_count": 5,
   "metadata": {
    "id": "ovW1Kl5erBYc"
   },
   "outputs": [],
   "source": [
    "# Function to calculate Euclidean distance\n",
    "def calculate_distance(row, ball_position):\n",
    "    return np.sqrt((ball_position['x'] - row['x'])**2 + (ball_position['y'] - row['y'])**2)\n",
    "\n",
    "def create_feature_space(frame_df):\n",
    "    # Extract gameId, playId, and frameId\n",
    "    gameId = frame_df['gameId'].iloc[0]\n",
    "    playId = frame_df['playId'].iloc[0]\n",
    "    frameId = frame_df['frameId'].iloc[0]\n",
    "\n",
    "    # Split into offense and defense\n",
    "    offense = frame_df[frame_df['OFF'] == True].sort_values('distance_to_ball')\n",
    "    defense = frame_df[frame_df['OFF'] == False].sort_values('distance_to_ball')\n",
    "\n",
    "    # Initialize a dictionary to hold the features\n",
    "    features = {'gameId': gameId, 'playId': playId, 'frameId': frameId}\n",
    "\n",
    "    # Extract features for offense\n",
    "    for i, player in enumerate(offense.itertuples(), start=1):\n",
    "        features[f'OFF_PLAYER_{i}_X'] = player.x\n",
    "        features[f'OFF_PLAYER_{i}_Y'] = player.y\n",
    "        features[f'OFF_PLAYER_{i}_A'] = player.a\n",
    "        features[f'OFF_PLAYER_{i}_S'] = player.s\n",
    "        features[f'OFF_PLAYER_{i}_D'] = player.distance_to_ball\n",
    "\n",
    "    # Extract features for defense\n",
    "    for i, player in enumerate(defense.itertuples(), start=1):\n",
    "        features[f'DEF_PLAYER_{i}_X'] = player.x\n",
    "        features[f'DEF_PLAYER_{i}_Y'] = player.y\n",
    "        features[f'DEF_PLAYER_{i}_A'] = player.a\n",
    "        features[f'DEF_PLAYER_{i}_S'] = player.s\n",
    "        features[f'DEF_PLAYER_{i}_D'] = player.distance_to_ball\n",
    "\n",
    "    return features\n",
    "\n",
    "def create_dataset(df, game_id):\n",
    "    plays_filtered = plays.copy()[['gameId', 'playId', 'possessionTeam', 'defensiveTeam']]\n",
    "    df = df.merge(plays_filtered, on=['gameId', 'playId'], how='left')\n",
    "    df['OFF'] = df['possessionTeam'] == df['club']\n",
    "\n",
    "    # filter for game id for training or testing\n",
    "    df = df[df['gameId'] == game_id]\n",
    "\n",
    "    # Initialize an empty list to store feature spaces for all frames\n",
    "    all_feature_spaces = []\n",
    "\n",
    "    # Iterate over each unique game and play\n",
    "    for (gameId, playId), group in df.groupby(['gameId', 'playId']):\n",
    "        # Filter rows for the ball carrier in this game and play\n",
    "        ball_df = group[group['displayName'] == 'football']\n",
    "\n",
    "        # Calculate distances for each frame in this game and play\n",
    "        for frame in group['frameId'].unique():\n",
    "            ball_position = ball_df[ball_df['frameId'] == frame].iloc[0]\n",
    "            frame_df = group[group['frameId'] == frame]\n",
    "            group.loc[group['frameId'] == frame, 'distance_to_ball'] = frame_df.apply(lambda row: calculate_distance(row, ball_position), axis=1)\n",
    "\n",
    "        # Create feature space for each frame\n",
    "        feature_space = [create_feature_space(group[group['frameId'] == frame]) for frame in group['frameId'].unique()]\n",
    "        all_feature_spaces.extend(feature_space)\n",
    "\n",
    "    # Convert to DataFrame\n",
    "    feature_space_df = pd.DataFrame(all_feature_spaces)\n",
    "\n",
    "    # setting the target var\n",
    "    tackle_locations = df.loc[(df['displayName'] == 'football') & (df['event'] == 'tackle'), ['gameId', 'playId', 'frameId', 'x', 'y']].groupby(['gameId', 'playId'], as_index=False).first()\n",
    "    tackle_locations = tackle_locations.rename({\n",
    "        'x': 'x_tackle',\n",
    "        'y': 'y_tackle'\n",
    "    }, axis=1).drop('frameId', axis=1)\n",
    "\n",
    "    final_df = feature_space_df.merge(tackle_locations, on=['gameId', 'playId'], how='left')\n",
    "\n",
    "    final_df = final_df.loc[(final_df['x_tackle'].notna()) & (final_df['y_tackle'].notna())]\n",
    "    features_list = final_df.columns[3:-2].tolist()\n",
    "    return final_df, features_list"
   ]
  },
  {
   "cell_type": "code",
   "execution_count": 6,
   "metadata": {
    "colab": {
     "base_uri": "https://localhost:8080/",
     "height": 255
    },
    "id": "U7W7q6lBLQQw",
    "outputId": "1c0b8435-dfb0-479f-bc2f-881ec1aa5a0d"
   },
   "outputs": [
    {
     "data": {
      "text/html": [
       "<div>\n",
       "<style scoped>\n",
       "    .dataframe tbody tr th:only-of-type {\n",
       "        vertical-align: middle;\n",
       "    }\n",
       "\n",
       "    .dataframe tbody tr th {\n",
       "        vertical-align: top;\n",
       "    }\n",
       "\n",
       "    .dataframe thead th {\n",
       "        text-align: right;\n",
       "    }\n",
       "</style>\n",
       "<table border=\"1\" class=\"dataframe\">\n",
       "  <thead>\n",
       "    <tr style=\"text-align: right;\">\n",
       "      <th></th>\n",
       "      <th>gameId</th>\n",
       "      <th>playId</th>\n",
       "      <th>frameId</th>\n",
       "      <th>OFF_PLAYER_1_X</th>\n",
       "      <th>OFF_PLAYER_1_Y</th>\n",
       "      <th>OFF_PLAYER_1_A</th>\n",
       "      <th>OFF_PLAYER_1_S</th>\n",
       "      <th>OFF_PLAYER_1_D</th>\n",
       "      <th>OFF_PLAYER_2_X</th>\n",
       "      <th>OFF_PLAYER_2_Y</th>\n",
       "      <th>...</th>\n",
       "      <th>DEF_PLAYER_11_A</th>\n",
       "      <th>DEF_PLAYER_11_S</th>\n",
       "      <th>DEF_PLAYER_11_D</th>\n",
       "      <th>DEF_PLAYER_12_X</th>\n",
       "      <th>DEF_PLAYER_12_Y</th>\n",
       "      <th>DEF_PLAYER_12_A</th>\n",
       "      <th>DEF_PLAYER_12_S</th>\n",
       "      <th>DEF_PLAYER_12_D</th>\n",
       "      <th>x_tackle</th>\n",
       "      <th>y_tackle</th>\n",
       "    </tr>\n",
       "  </thead>\n",
       "  <tbody>\n",
       "    <tr>\n",
       "      <th>0</th>\n",
       "      <td>2022091101</td>\n",
       "      <td>85</td>\n",
       "      <td>1</td>\n",
       "      <td>27.40</td>\n",
       "      <td>30.37</td>\n",
       "      <td>3.05</td>\n",
       "      <td>2.03</td>\n",
       "      <td>3.260552</td>\n",
       "      <td>27.11</td>\n",
       "      <td>25.55</td>\n",
       "      <td>...</td>\n",
       "      <td>1.18</td>\n",
       "      <td>5.61</td>\n",
       "      <td>21.245470</td>\n",
       "      <td>41.52</td>\n",
       "      <td>11.59</td>\n",
       "      <td>3.29</td>\n",
       "      <td>3.39</td>\n",
       "      <td>23.490125</td>\n",
       "      <td>24.309999</td>\n",
       "      <td>38.23</td>\n",
       "    </tr>\n",
       "    <tr>\n",
       "      <th>1</th>\n",
       "      <td>2022091101</td>\n",
       "      <td>85</td>\n",
       "      <td>2</td>\n",
       "      <td>27.34</td>\n",
       "      <td>30.54</td>\n",
       "      <td>2.96</td>\n",
       "      <td>1.69</td>\n",
       "      <td>2.284842</td>\n",
       "      <td>26.81</td>\n",
       "      <td>25.46</td>\n",
       "      <td>...</td>\n",
       "      <td>3.54</td>\n",
       "      <td>3.05</td>\n",
       "      <td>21.173316</td>\n",
       "      <td>41.56</td>\n",
       "      <td>11.25</td>\n",
       "      <td>3.07</td>\n",
       "      <td>3.43</td>\n",
       "      <td>25.180569</td>\n",
       "      <td>24.309999</td>\n",
       "      <td>38.23</td>\n",
       "    </tr>\n",
       "    <tr>\n",
       "      <th>2</th>\n",
       "      <td>2022091101</td>\n",
       "      <td>85</td>\n",
       "      <td>3</td>\n",
       "      <td>27.28</td>\n",
       "      <td>30.70</td>\n",
       "      <td>2.43</td>\n",
       "      <td>1.54</td>\n",
       "      <td>2.590173</td>\n",
       "      <td>25.91</td>\n",
       "      <td>36.10</td>\n",
       "      <td>...</td>\n",
       "      <td>3.34</td>\n",
       "      <td>3.28</td>\n",
       "      <td>21.827535</td>\n",
       "      <td>41.56</td>\n",
       "      <td>10.90</td>\n",
       "      <td>2.77</td>\n",
       "      <td>3.45</td>\n",
       "      <td>26.887651</td>\n",
       "      <td>24.309999</td>\n",
       "      <td>38.23</td>\n",
       "    </tr>\n",
       "    <tr>\n",
       "      <th>3</th>\n",
       "      <td>2022091101</td>\n",
       "      <td>85</td>\n",
       "      <td>4</td>\n",
       "      <td>25.95</td>\n",
       "      <td>36.58</td>\n",
       "      <td>3.18</td>\n",
       "      <td>4.76</td>\n",
       "      <td>3.077288</td>\n",
       "      <td>27.24</td>\n",
       "      <td>30.83</td>\n",
       "      <td>...</td>\n",
       "      <td>3.53</td>\n",
       "      <td>3.58</td>\n",
       "      <td>22.242199</td>\n",
       "      <td>41.53</td>\n",
       "      <td>10.56</td>\n",
       "      <td>2.34</td>\n",
       "      <td>3.44</td>\n",
       "      <td>28.152238</td>\n",
       "      <td>24.309999</td>\n",
       "      <td>38.23</td>\n",
       "    </tr>\n",
       "    <tr>\n",
       "      <th>4</th>\n",
       "      <td>2022091101</td>\n",
       "      <td>85</td>\n",
       "      <td>5</td>\n",
       "      <td>25.95</td>\n",
       "      <td>37.03</td>\n",
       "      <td>3.71</td>\n",
       "      <td>4.35</td>\n",
       "      <td>1.957268</td>\n",
       "      <td>29.49</td>\n",
       "      <td>36.67</td>\n",
       "      <td>...</td>\n",
       "      <td>3.73</td>\n",
       "      <td>3.94</td>\n",
       "      <td>22.691506</td>\n",
       "      <td>41.48</td>\n",
       "      <td>10.24</td>\n",
       "      <td>2.23</td>\n",
       "      <td>3.30</td>\n",
       "      <td>29.589055</td>\n",
       "      <td>24.309999</td>\n",
       "      <td>38.23</td>\n",
       "    </tr>\n",
       "  </tbody>\n",
       "</table>\n",
       "<p>5 rows × 120 columns</p>\n",
       "</div>"
      ],
      "text/plain": [
       "       gameId  playId  frameId  OFF_PLAYER_1_X  OFF_PLAYER_1_Y  \\\n",
       "0  2022091101      85        1           27.40           30.37   \n",
       "1  2022091101      85        2           27.34           30.54   \n",
       "2  2022091101      85        3           27.28           30.70   \n",
       "3  2022091101      85        4           25.95           36.58   \n",
       "4  2022091101      85        5           25.95           37.03   \n",
       "\n",
       "   OFF_PLAYER_1_A  OFF_PLAYER_1_S  OFF_PLAYER_1_D  OFF_PLAYER_2_X  \\\n",
       "0            3.05            2.03        3.260552           27.11   \n",
       "1            2.96            1.69        2.284842           26.81   \n",
       "2            2.43            1.54        2.590173           25.91   \n",
       "3            3.18            4.76        3.077288           27.24   \n",
       "4            3.71            4.35        1.957268           29.49   \n",
       "\n",
       "   OFF_PLAYER_2_Y  ...  DEF_PLAYER_11_A  DEF_PLAYER_11_S  DEF_PLAYER_11_D  \\\n",
       "0           25.55  ...             1.18             5.61        21.245470   \n",
       "1           25.46  ...             3.54             3.05        21.173316   \n",
       "2           36.10  ...             3.34             3.28        21.827535   \n",
       "3           30.83  ...             3.53             3.58        22.242199   \n",
       "4           36.67  ...             3.73             3.94        22.691506   \n",
       "\n",
       "   DEF_PLAYER_12_X  DEF_PLAYER_12_Y  DEF_PLAYER_12_A  DEF_PLAYER_12_S  \\\n",
       "0            41.52            11.59             3.29             3.39   \n",
       "1            41.56            11.25             3.07             3.43   \n",
       "2            41.56            10.90             2.77             3.45   \n",
       "3            41.53            10.56             2.34             3.44   \n",
       "4            41.48            10.24             2.23             3.30   \n",
       "\n",
       "   DEF_PLAYER_12_D   x_tackle  y_tackle  \n",
       "0        23.490125  24.309999     38.23  \n",
       "1        25.180569  24.309999     38.23  \n",
       "2        26.887651  24.309999     38.23  \n",
       "3        28.152238  24.309999     38.23  \n",
       "4        29.589055  24.309999     38.23  \n",
       "\n",
       "[5 rows x 120 columns]"
      ]
     },
     "execution_count": 6,
     "metadata": {},
     "output_type": "execute_result"
    }
   ],
   "source": [
    "final_df, features_list = create_dataset(df, game_id=2022091101)\n",
    "final_df.head()"
   ]
  },
  {
   "cell_type": "code",
   "execution_count": 7,
   "metadata": {
    "colab": {
     "base_uri": "https://localhost:8080/"
    },
    "id": "S-cVPVhxu0gb",
    "outputId": "54524688-c27b-4add-fda3-2dec658e4912"
   },
   "outputs": [
    {
     "name": "stdout",
     "output_type": "stream",
     "text": [
      "Training data set shape:  (3319, 120)\n",
      "Number of features:  115\n"
     ]
    }
   ],
   "source": [
    "print('Training data set shape: ', final_df.shape)\n",
    "print('Number of features: ', len(features_list))"
   ]
  },
  {
   "cell_type": "code",
   "execution_count": 8,
   "metadata": {
    "colab": {
     "base_uri": "https://localhost:8080/"
    },
    "id": "hbvZcBerNET6",
    "outputId": "3e6652bd-f2bd-4f9d-bcb8-a3981fa2a563"
   },
   "outputs": [
    {
     "data": {
      "text/plain": [
       "['OFF_PLAYER_1_X',\n",
       " 'OFF_PLAYER_1_Y',\n",
       " 'OFF_PLAYER_1_A',\n",
       " 'OFF_PLAYER_1_S',\n",
       " 'OFF_PLAYER_1_D']"
      ]
     },
     "execution_count": 8,
     "metadata": {},
     "output_type": "execute_result"
    }
   ],
   "source": [
    "features_list[:5]"
   ]
  },
  {
   "cell_type": "code",
   "execution_count": 9,
   "metadata": {
    "colab": {
     "base_uri": "https://localhost:8080/"
    },
    "id": "OQPc6T-1vKA5",
    "outputId": "e694a29c-07af-4e41-8feb-9a790613fef6"
   },
   "outputs": [
    {
     "name": "stdout",
     "output_type": "stream",
     "text": [
      "(3319, 115) (3319, 1) (3319, 1)\n"
     ]
    }
   ],
   "source": [
    "X = final_df[features_list].values\n",
    "y_x = final_df['x_tackle'].values.reshape(-1, 1)\n",
    "y_y = final_df['y_tackle'].values.reshape(-1, 1)\n",
    "\n",
    "print(X.shape, y_x.shape, y_y.shape)"
   ]
  },
  {
   "cell_type": "code",
   "execution_count": 10,
   "metadata": {
    "colab": {
     "base_uri": "https://localhost:8080/",
     "height": 186
    },
    "id": "GiQDf-kfvsea",
    "outputId": "f6a7ecdc-a6f3-437d-8066-20b61e3ee4ad"
   },
   "outputs": [
    {
     "data": {
      "text/html": [
       "<style>#sk-container-id-1 {color: black;}#sk-container-id-1 pre{padding: 0;}#sk-container-id-1 div.sk-toggleable {background-color: white;}#sk-container-id-1 label.sk-toggleable__label {cursor: pointer;display: block;width: 100%;margin-bottom: 0;padding: 0.3em;box-sizing: border-box;text-align: center;}#sk-container-id-1 label.sk-toggleable__label-arrow:before {content: \"▸\";float: left;margin-right: 0.25em;color: #696969;}#sk-container-id-1 label.sk-toggleable__label-arrow:hover:before {color: black;}#sk-container-id-1 div.sk-estimator:hover label.sk-toggleable__label-arrow:before {color: black;}#sk-container-id-1 div.sk-toggleable__content {max-height: 0;max-width: 0;overflow: hidden;text-align: left;background-color: #f0f8ff;}#sk-container-id-1 div.sk-toggleable__content pre {margin: 0.2em;color: black;border-radius: 0.25em;background-color: #f0f8ff;}#sk-container-id-1 input.sk-toggleable__control:checked~div.sk-toggleable__content {max-height: 200px;max-width: 100%;overflow: auto;}#sk-container-id-1 input.sk-toggleable__control:checked~label.sk-toggleable__label-arrow:before {content: \"▾\";}#sk-container-id-1 div.sk-estimator input.sk-toggleable__control:checked~label.sk-toggleable__label {background-color: #d4ebff;}#sk-container-id-1 div.sk-label input.sk-toggleable__control:checked~label.sk-toggleable__label {background-color: #d4ebff;}#sk-container-id-1 input.sk-hidden--visually {border: 0;clip: rect(1px 1px 1px 1px);clip: rect(1px, 1px, 1px, 1px);height: 1px;margin: -1px;overflow: hidden;padding: 0;position: absolute;width: 1px;}#sk-container-id-1 div.sk-estimator {font-family: monospace;background-color: #f0f8ff;border: 1px dotted black;border-radius: 0.25em;box-sizing: border-box;margin-bottom: 0.5em;}#sk-container-id-1 div.sk-estimator:hover {background-color: #d4ebff;}#sk-container-id-1 div.sk-parallel-item::after {content: \"\";width: 100%;border-bottom: 1px solid gray;flex-grow: 1;}#sk-container-id-1 div.sk-label:hover label.sk-toggleable__label {background-color: #d4ebff;}#sk-container-id-1 div.sk-serial::before {content: \"\";position: absolute;border-left: 1px solid gray;box-sizing: border-box;top: 0;bottom: 0;left: 50%;z-index: 0;}#sk-container-id-1 div.sk-serial {display: flex;flex-direction: column;align-items: center;background-color: white;padding-right: 0.2em;padding-left: 0.2em;position: relative;}#sk-container-id-1 div.sk-item {position: relative;z-index: 1;}#sk-container-id-1 div.sk-parallel {display: flex;align-items: stretch;justify-content: center;background-color: white;position: relative;}#sk-container-id-1 div.sk-item::before, #sk-container-id-1 div.sk-parallel-item::before {content: \"\";position: absolute;border-left: 1px solid gray;box-sizing: border-box;top: 0;bottom: 0;left: 50%;z-index: -1;}#sk-container-id-1 div.sk-parallel-item {display: flex;flex-direction: column;z-index: 1;position: relative;background-color: white;}#sk-container-id-1 div.sk-parallel-item:first-child::after {align-self: flex-end;width: 50%;}#sk-container-id-1 div.sk-parallel-item:last-child::after {align-self: flex-start;width: 50%;}#sk-container-id-1 div.sk-parallel-item:only-child::after {width: 0;}#sk-container-id-1 div.sk-dashed-wrapped {border: 1px dashed gray;margin: 0 0.4em 0.5em 0.4em;box-sizing: border-box;padding-bottom: 0.4em;background-color: white;}#sk-container-id-1 div.sk-label label {font-family: monospace;font-weight: bold;display: inline-block;line-height: 1.2em;}#sk-container-id-1 div.sk-label-container {text-align: center;}#sk-container-id-1 div.sk-container {/* jupyter's `normalize.less` sets `[hidden] { display: none; }` but bootstrap.min.css set `[hidden] { display: none !important; }` so we also need the `!important` here to be able to override the default hidden behavior on the sphinx rendered scikit-learn.org. See: https://github.com/scikit-learn/scikit-learn/issues/21755 */display: inline-block !important;position: relative;}#sk-container-id-1 div.sk-text-repr-fallback {display: none;}</style><div id=\"sk-container-id-1\" class=\"sk-top-container\"><div class=\"sk-text-repr-fallback\"><pre>GaussianProcessRegressor(kernel=RBF(length_scale=3), n_restarts_optimizer=10)</pre><b>In a Jupyter environment, please rerun this cell to show the HTML representation or trust the notebook. <br />On GitHub, the HTML representation is unable to render, please try loading this page with nbviewer.org.</b></div><div class=\"sk-container\" hidden><div class=\"sk-item\"><div class=\"sk-estimator sk-toggleable\"><input class=\"sk-toggleable__control sk-hidden--visually\" id=\"sk-estimator-id-1\" type=\"checkbox\" checked><label for=\"sk-estimator-id-1\" class=\"sk-toggleable__label sk-toggleable__label-arrow\">GaussianProcessRegressor</label><div class=\"sk-toggleable__content\"><pre>GaussianProcessRegressor(kernel=RBF(length_scale=3), n_restarts_optimizer=10)</pre></div></div></div></div></div>"
      ],
      "text/plain": [
       "GaussianProcessRegressor(kernel=RBF(length_scale=3), n_restarts_optimizer=10)"
      ]
     },
     "execution_count": 10,
     "metadata": {},
     "output_type": "execute_result"
    }
   ],
   "source": [
    "# Initialize the Gaussian Process Regressor\n",
    "kernel = RBF(length_scale=3.0, length_scale_bounds=(1e-2, 1e2))\n",
    "gpr_x = GaussianProcessRegressor(kernel=kernel, n_restarts_optimizer=10)\n",
    "\n",
    "# Fit the model\n",
    "gpr_x.fit(X, y_x)"
   ]
  },
  {
   "cell_type": "code",
   "execution_count": 11,
   "metadata": {
    "colab": {
     "base_uri": "https://localhost:8080/",
     "height": 75
    },
    "id": "4slwRyiKwHBx",
    "outputId": "87c80288-9aed-4444-d6fe-6044f86e435e"
   },
   "outputs": [
    {
     "data": {
      "text/html": [
       "<style>#sk-container-id-2 {color: black;}#sk-container-id-2 pre{padding: 0;}#sk-container-id-2 div.sk-toggleable {background-color: white;}#sk-container-id-2 label.sk-toggleable__label {cursor: pointer;display: block;width: 100%;margin-bottom: 0;padding: 0.3em;box-sizing: border-box;text-align: center;}#sk-container-id-2 label.sk-toggleable__label-arrow:before {content: \"▸\";float: left;margin-right: 0.25em;color: #696969;}#sk-container-id-2 label.sk-toggleable__label-arrow:hover:before {color: black;}#sk-container-id-2 div.sk-estimator:hover label.sk-toggleable__label-arrow:before {color: black;}#sk-container-id-2 div.sk-toggleable__content {max-height: 0;max-width: 0;overflow: hidden;text-align: left;background-color: #f0f8ff;}#sk-container-id-2 div.sk-toggleable__content pre {margin: 0.2em;color: black;border-radius: 0.25em;background-color: #f0f8ff;}#sk-container-id-2 input.sk-toggleable__control:checked~div.sk-toggleable__content {max-height: 200px;max-width: 100%;overflow: auto;}#sk-container-id-2 input.sk-toggleable__control:checked~label.sk-toggleable__label-arrow:before {content: \"▾\";}#sk-container-id-2 div.sk-estimator input.sk-toggleable__control:checked~label.sk-toggleable__label {background-color: #d4ebff;}#sk-container-id-2 div.sk-label input.sk-toggleable__control:checked~label.sk-toggleable__label {background-color: #d4ebff;}#sk-container-id-2 input.sk-hidden--visually {border: 0;clip: rect(1px 1px 1px 1px);clip: rect(1px, 1px, 1px, 1px);height: 1px;margin: -1px;overflow: hidden;padding: 0;position: absolute;width: 1px;}#sk-container-id-2 div.sk-estimator {font-family: monospace;background-color: #f0f8ff;border: 1px dotted black;border-radius: 0.25em;box-sizing: border-box;margin-bottom: 0.5em;}#sk-container-id-2 div.sk-estimator:hover {background-color: #d4ebff;}#sk-container-id-2 div.sk-parallel-item::after {content: \"\";width: 100%;border-bottom: 1px solid gray;flex-grow: 1;}#sk-container-id-2 div.sk-label:hover label.sk-toggleable__label {background-color: #d4ebff;}#sk-container-id-2 div.sk-serial::before {content: \"\";position: absolute;border-left: 1px solid gray;box-sizing: border-box;top: 0;bottom: 0;left: 50%;z-index: 0;}#sk-container-id-2 div.sk-serial {display: flex;flex-direction: column;align-items: center;background-color: white;padding-right: 0.2em;padding-left: 0.2em;position: relative;}#sk-container-id-2 div.sk-item {position: relative;z-index: 1;}#sk-container-id-2 div.sk-parallel {display: flex;align-items: stretch;justify-content: center;background-color: white;position: relative;}#sk-container-id-2 div.sk-item::before, #sk-container-id-2 div.sk-parallel-item::before {content: \"\";position: absolute;border-left: 1px solid gray;box-sizing: border-box;top: 0;bottom: 0;left: 50%;z-index: -1;}#sk-container-id-2 div.sk-parallel-item {display: flex;flex-direction: column;z-index: 1;position: relative;background-color: white;}#sk-container-id-2 div.sk-parallel-item:first-child::after {align-self: flex-end;width: 50%;}#sk-container-id-2 div.sk-parallel-item:last-child::after {align-self: flex-start;width: 50%;}#sk-container-id-2 div.sk-parallel-item:only-child::after {width: 0;}#sk-container-id-2 div.sk-dashed-wrapped {border: 1px dashed gray;margin: 0 0.4em 0.5em 0.4em;box-sizing: border-box;padding-bottom: 0.4em;background-color: white;}#sk-container-id-2 div.sk-label label {font-family: monospace;font-weight: bold;display: inline-block;line-height: 1.2em;}#sk-container-id-2 div.sk-label-container {text-align: center;}#sk-container-id-2 div.sk-container {/* jupyter's `normalize.less` sets `[hidden] { display: none; }` but bootstrap.min.css set `[hidden] { display: none !important; }` so we also need the `!important` here to be able to override the default hidden behavior on the sphinx rendered scikit-learn.org. See: https://github.com/scikit-learn/scikit-learn/issues/21755 */display: inline-block !important;position: relative;}#sk-container-id-2 div.sk-text-repr-fallback {display: none;}</style><div id=\"sk-container-id-2\" class=\"sk-top-container\"><div class=\"sk-text-repr-fallback\"><pre>GaussianProcessRegressor(kernel=RBF(length_scale=3), n_restarts_optimizer=10)</pre><b>In a Jupyter environment, please rerun this cell to show the HTML representation or trust the notebook. <br />On GitHub, the HTML representation is unable to render, please try loading this page with nbviewer.org.</b></div><div class=\"sk-container\" hidden><div class=\"sk-item\"><div class=\"sk-estimator sk-toggleable\"><input class=\"sk-toggleable__control sk-hidden--visually\" id=\"sk-estimator-id-2\" type=\"checkbox\" checked><label for=\"sk-estimator-id-2\" class=\"sk-toggleable__label sk-toggleable__label-arrow\">GaussianProcessRegressor</label><div class=\"sk-toggleable__content\"><pre>GaussianProcessRegressor(kernel=RBF(length_scale=3), n_restarts_optimizer=10)</pre></div></div></div></div></div>"
      ],
      "text/plain": [
       "GaussianProcessRegressor(kernel=RBF(length_scale=3), n_restarts_optimizer=10)"
      ]
     },
     "execution_count": 11,
     "metadata": {},
     "output_type": "execute_result"
    }
   ],
   "source": [
    "# Fit the model\n",
    "gpr_y = GaussianProcessRegressor(kernel=kernel, n_restarts_optimizer=10)\n",
    "\n",
    "gpr_y.fit(X, y_y)"
   ]
  },
  {
   "cell_type": "code",
   "execution_count": 12,
   "metadata": {
    "colab": {
     "base_uri": "https://localhost:8080/",
     "height": 255
    },
    "id": "mxm-meukTfNW",
    "outputId": "0bfa4c10-674c-42b3-f5d7-fcf9c656078d"
   },
   "outputs": [
    {
     "data": {
      "text/html": [
       "<div>\n",
       "<style scoped>\n",
       "    .dataframe tbody tr th:only-of-type {\n",
       "        vertical-align: middle;\n",
       "    }\n",
       "\n",
       "    .dataframe tbody tr th {\n",
       "        vertical-align: top;\n",
       "    }\n",
       "\n",
       "    .dataframe thead th {\n",
       "        text-align: right;\n",
       "    }\n",
       "</style>\n",
       "<table border=\"1\" class=\"dataframe\">\n",
       "  <thead>\n",
       "    <tr style=\"text-align: right;\">\n",
       "      <th></th>\n",
       "      <th>gameId</th>\n",
       "      <th>playId</th>\n",
       "      <th>frameId</th>\n",
       "      <th>OFF_PLAYER_1_X</th>\n",
       "      <th>OFF_PLAYER_1_Y</th>\n",
       "      <th>OFF_PLAYER_1_A</th>\n",
       "      <th>OFF_PLAYER_1_S</th>\n",
       "      <th>OFF_PLAYER_1_D</th>\n",
       "      <th>OFF_PLAYER_2_X</th>\n",
       "      <th>OFF_PLAYER_2_Y</th>\n",
       "      <th>...</th>\n",
       "      <th>DEF_PLAYER_11_A</th>\n",
       "      <th>DEF_PLAYER_11_S</th>\n",
       "      <th>DEF_PLAYER_11_D</th>\n",
       "      <th>DEF_PLAYER_12_X</th>\n",
       "      <th>DEF_PLAYER_12_Y</th>\n",
       "      <th>DEF_PLAYER_12_A</th>\n",
       "      <th>DEF_PLAYER_12_S</th>\n",
       "      <th>DEF_PLAYER_12_D</th>\n",
       "      <th>x_tackle</th>\n",
       "      <th>y_tackle</th>\n",
       "    </tr>\n",
       "  </thead>\n",
       "  <tbody>\n",
       "    <tr>\n",
       "      <th>0</th>\n",
       "      <td>2022091106</td>\n",
       "      <td>59</td>\n",
       "      <td>1</td>\n",
       "      <td>45.33</td>\n",
       "      <td>6.40</td>\n",
       "      <td>2.12</td>\n",
       "      <td>6.30</td>\n",
       "      <td>2.668107</td>\n",
       "      <td>38.82</td>\n",
       "      <td>21.87</td>\n",
       "      <td>...</td>\n",
       "      <td>1.73</td>\n",
       "      <td>4.29</td>\n",
       "      <td>30.915255</td>\n",
       "      <td>45.88</td>\n",
       "      <td>48.70</td>\n",
       "      <td>2.75</td>\n",
       "      <td>3.53</td>\n",
       "      <td>40.913876</td>\n",
       "      <td>44.310001</td>\n",
       "      <td>0.1</td>\n",
       "    </tr>\n",
       "    <tr>\n",
       "      <th>1</th>\n",
       "      <td>2022091106</td>\n",
       "      <td>59</td>\n",
       "      <td>2</td>\n",
       "      <td>45.18</td>\n",
       "      <td>5.80</td>\n",
       "      <td>2.09</td>\n",
       "      <td>6.15</td>\n",
       "      <td>0.640312</td>\n",
       "      <td>38.87</td>\n",
       "      <td>21.42</td>\n",
       "      <td>...</td>\n",
       "      <td>0.79</td>\n",
       "      <td>2.99</td>\n",
       "      <td>32.771823</td>\n",
       "      <td>45.93</td>\n",
       "      <td>49.04</td>\n",
       "      <td>2.41</td>\n",
       "      <td>3.32</td>\n",
       "      <td>43.282325</td>\n",
       "      <td>44.310001</td>\n",
       "      <td>0.1</td>\n",
       "    </tr>\n",
       "    <tr>\n",
       "      <th>2</th>\n",
       "      <td>2022091106</td>\n",
       "      <td>59</td>\n",
       "      <td>3</td>\n",
       "      <td>45.02</td>\n",
       "      <td>5.20</td>\n",
       "      <td>1.82</td>\n",
       "      <td>6.08</td>\n",
       "      <td>0.510100</td>\n",
       "      <td>38.92</td>\n",
       "      <td>20.98</td>\n",
       "      <td>...</td>\n",
       "      <td>0.82</td>\n",
       "      <td>3.15</td>\n",
       "      <td>33.084456</td>\n",
       "      <td>45.98</td>\n",
       "      <td>49.36</td>\n",
       "      <td>2.18</td>\n",
       "      <td>3.10</td>\n",
       "      <td>44.194454</td>\n",
       "      <td>44.310001</td>\n",
       "      <td>0.1</td>\n",
       "    </tr>\n",
       "    <tr>\n",
       "      <th>3</th>\n",
       "      <td>2022091106</td>\n",
       "      <td>59</td>\n",
       "      <td>4</td>\n",
       "      <td>44.87</td>\n",
       "      <td>4.60</td>\n",
       "      <td>1.63</td>\n",
       "      <td>5.99</td>\n",
       "      <td>0.415934</td>\n",
       "      <td>38.96</td>\n",
       "      <td>20.57</td>\n",
       "      <td>...</td>\n",
       "      <td>0.97</td>\n",
       "      <td>3.33</td>\n",
       "      <td>33.429730</td>\n",
       "      <td>46.03</td>\n",
       "      <td>49.65</td>\n",
       "      <td>1.99</td>\n",
       "      <td>2.88</td>\n",
       "      <td>45.147306</td>\n",
       "      <td>44.310001</td>\n",
       "      <td>0.1</td>\n",
       "    </tr>\n",
       "    <tr>\n",
       "      <th>4</th>\n",
       "      <td>2022091106</td>\n",
       "      <td>59</td>\n",
       "      <td>5</td>\n",
       "      <td>44.73</td>\n",
       "      <td>4.02</td>\n",
       "      <td>1.48</td>\n",
       "      <td>5.92</td>\n",
       "      <td>0.331059</td>\n",
       "      <td>38.99</td>\n",
       "      <td>20.16</td>\n",
       "      <td>...</td>\n",
       "      <td>0.92</td>\n",
       "      <td>3.37</td>\n",
       "      <td>33.783916</td>\n",
       "      <td>46.07</td>\n",
       "      <td>49.92</td>\n",
       "      <td>2.01</td>\n",
       "      <td>2.64</td>\n",
       "      <td>46.069200</td>\n",
       "      <td>44.310001</td>\n",
       "      <td>0.1</td>\n",
       "    </tr>\n",
       "  </tbody>\n",
       "</table>\n",
       "<p>5 rows × 120 columns</p>\n",
       "</div>"
      ],
      "text/plain": [
       "       gameId  playId  frameId  OFF_PLAYER_1_X  OFF_PLAYER_1_Y  \\\n",
       "0  2022091106      59        1           45.33            6.40   \n",
       "1  2022091106      59        2           45.18            5.80   \n",
       "2  2022091106      59        3           45.02            5.20   \n",
       "3  2022091106      59        4           44.87            4.60   \n",
       "4  2022091106      59        5           44.73            4.02   \n",
       "\n",
       "   OFF_PLAYER_1_A  OFF_PLAYER_1_S  OFF_PLAYER_1_D  OFF_PLAYER_2_X  \\\n",
       "0            2.12            6.30        2.668107           38.82   \n",
       "1            2.09            6.15        0.640312           38.87   \n",
       "2            1.82            6.08        0.510100           38.92   \n",
       "3            1.63            5.99        0.415934           38.96   \n",
       "4            1.48            5.92        0.331059           38.99   \n",
       "\n",
       "   OFF_PLAYER_2_Y  ...  DEF_PLAYER_11_A  DEF_PLAYER_11_S  DEF_PLAYER_11_D  \\\n",
       "0           21.87  ...             1.73             4.29        30.915255   \n",
       "1           21.42  ...             0.79             2.99        32.771823   \n",
       "2           20.98  ...             0.82             3.15        33.084456   \n",
       "3           20.57  ...             0.97             3.33        33.429730   \n",
       "4           20.16  ...             0.92             3.37        33.783916   \n",
       "\n",
       "   DEF_PLAYER_12_X  DEF_PLAYER_12_Y  DEF_PLAYER_12_A  DEF_PLAYER_12_S  \\\n",
       "0            45.88            48.70             2.75             3.53   \n",
       "1            45.93            49.04             2.41             3.32   \n",
       "2            45.98            49.36             2.18             3.10   \n",
       "3            46.03            49.65             1.99             2.88   \n",
       "4            46.07            49.92             2.01             2.64   \n",
       "\n",
       "   DEF_PLAYER_12_D   x_tackle  y_tackle  \n",
       "0        40.913876  44.310001       0.1  \n",
       "1        43.282325  44.310001       0.1  \n",
       "2        44.194454  44.310001       0.1  \n",
       "3        45.147306  44.310001       0.1  \n",
       "4        46.069200  44.310001       0.1  \n",
       "\n",
       "[5 rows x 120 columns]"
      ]
     },
     "execution_count": 12,
     "metadata": {},
     "output_type": "execute_result"
    }
   ],
   "source": [
    "test_df, features_list = create_dataset(df, 2022091106)\n",
    "test_df.head()"
   ]
  },
  {
   "cell_type": "code",
   "execution_count": 13,
   "metadata": {
    "colab": {
     "base_uri": "https://localhost:8080/",
     "height": 255
    },
    "id": "G8LZ9cFpT1ET",
    "outputId": "63d15c47-755f-4494-acd7-497f1551e403"
   },
   "outputs": [
    {
     "data": {
      "text/html": [
       "<div>\n",
       "<style scoped>\n",
       "    .dataframe tbody tr th:only-of-type {\n",
       "        vertical-align: middle;\n",
       "    }\n",
       "\n",
       "    .dataframe tbody tr th {\n",
       "        vertical-align: top;\n",
       "    }\n",
       "\n",
       "    .dataframe thead th {\n",
       "        text-align: right;\n",
       "    }\n",
       "</style>\n",
       "<table border=\"1\" class=\"dataframe\">\n",
       "  <thead>\n",
       "    <tr style=\"text-align: right;\">\n",
       "      <th></th>\n",
       "      <th>gameId</th>\n",
       "      <th>playId</th>\n",
       "      <th>frameId</th>\n",
       "      <th>OFF_PLAYER_1_X</th>\n",
       "      <th>OFF_PLAYER_1_Y</th>\n",
       "      <th>OFF_PLAYER_1_A</th>\n",
       "      <th>OFF_PLAYER_1_S</th>\n",
       "      <th>OFF_PLAYER_1_D</th>\n",
       "      <th>OFF_PLAYER_2_X</th>\n",
       "      <th>OFF_PLAYER_2_Y</th>\n",
       "      <th>...</th>\n",
       "      <th>DEF_PLAYER_11_D</th>\n",
       "      <th>DEF_PLAYER_12_X</th>\n",
       "      <th>DEF_PLAYER_12_Y</th>\n",
       "      <th>DEF_PLAYER_12_A</th>\n",
       "      <th>DEF_PLAYER_12_S</th>\n",
       "      <th>DEF_PLAYER_12_D</th>\n",
       "      <th>x_tackle</th>\n",
       "      <th>y_tackle</th>\n",
       "      <th>y_tackle_pred</th>\n",
       "      <th>x_tackle_pred</th>\n",
       "    </tr>\n",
       "  </thead>\n",
       "  <tbody>\n",
       "    <tr>\n",
       "      <th>0</th>\n",
       "      <td>2022091106</td>\n",
       "      <td>59</td>\n",
       "      <td>1</td>\n",
       "      <td>45.33</td>\n",
       "      <td>6.40</td>\n",
       "      <td>2.12</td>\n",
       "      <td>6.30</td>\n",
       "      <td>2.668107</td>\n",
       "      <td>38.82</td>\n",
       "      <td>21.87</td>\n",
       "      <td>...</td>\n",
       "      <td>30.915255</td>\n",
       "      <td>45.88</td>\n",
       "      <td>48.70</td>\n",
       "      <td>2.75</td>\n",
       "      <td>3.53</td>\n",
       "      <td>40.913876</td>\n",
       "      <td>44.310001</td>\n",
       "      <td>0.1</td>\n",
       "      <td>3.620764</td>\n",
       "      <td>42.170526</td>\n",
       "    </tr>\n",
       "    <tr>\n",
       "      <th>1</th>\n",
       "      <td>2022091106</td>\n",
       "      <td>59</td>\n",
       "      <td>2</td>\n",
       "      <td>45.18</td>\n",
       "      <td>5.80</td>\n",
       "      <td>2.09</td>\n",
       "      <td>6.15</td>\n",
       "      <td>0.640312</td>\n",
       "      <td>38.87</td>\n",
       "      <td>21.42</td>\n",
       "      <td>...</td>\n",
       "      <td>32.771823</td>\n",
       "      <td>45.93</td>\n",
       "      <td>49.04</td>\n",
       "      <td>2.41</td>\n",
       "      <td>3.32</td>\n",
       "      <td>43.282325</td>\n",
       "      <td>44.310001</td>\n",
       "      <td>0.1</td>\n",
       "      <td>3.895524</td>\n",
       "      <td>39.122159</td>\n",
       "    </tr>\n",
       "    <tr>\n",
       "      <th>2</th>\n",
       "      <td>2022091106</td>\n",
       "      <td>59</td>\n",
       "      <td>3</td>\n",
       "      <td>45.02</td>\n",
       "      <td>5.20</td>\n",
       "      <td>1.82</td>\n",
       "      <td>6.08</td>\n",
       "      <td>0.510100</td>\n",
       "      <td>38.92</td>\n",
       "      <td>20.98</td>\n",
       "      <td>...</td>\n",
       "      <td>33.084456</td>\n",
       "      <td>45.98</td>\n",
       "      <td>49.36</td>\n",
       "      <td>2.18</td>\n",
       "      <td>3.10</td>\n",
       "      <td>44.194454</td>\n",
       "      <td>44.310001</td>\n",
       "      <td>0.1</td>\n",
       "      <td>3.726692</td>\n",
       "      <td>38.581823</td>\n",
       "    </tr>\n",
       "    <tr>\n",
       "      <th>3</th>\n",
       "      <td>2022091106</td>\n",
       "      <td>59</td>\n",
       "      <td>4</td>\n",
       "      <td>44.87</td>\n",
       "      <td>4.60</td>\n",
       "      <td>1.63</td>\n",
       "      <td>5.99</td>\n",
       "      <td>0.415934</td>\n",
       "      <td>38.96</td>\n",
       "      <td>20.57</td>\n",
       "      <td>...</td>\n",
       "      <td>33.429730</td>\n",
       "      <td>46.03</td>\n",
       "      <td>49.65</td>\n",
       "      <td>1.99</td>\n",
       "      <td>2.88</td>\n",
       "      <td>45.147306</td>\n",
       "      <td>44.310001</td>\n",
       "      <td>0.1</td>\n",
       "      <td>3.547331</td>\n",
       "      <td>38.049387</td>\n",
       "    </tr>\n",
       "    <tr>\n",
       "      <th>4</th>\n",
       "      <td>2022091106</td>\n",
       "      <td>59</td>\n",
       "      <td>5</td>\n",
       "      <td>44.73</td>\n",
       "      <td>4.02</td>\n",
       "      <td>1.48</td>\n",
       "      <td>5.92</td>\n",
       "      <td>0.331059</td>\n",
       "      <td>38.99</td>\n",
       "      <td>20.16</td>\n",
       "      <td>...</td>\n",
       "      <td>33.783916</td>\n",
       "      <td>46.07</td>\n",
       "      <td>49.92</td>\n",
       "      <td>2.01</td>\n",
       "      <td>2.64</td>\n",
       "      <td>46.069200</td>\n",
       "      <td>44.310001</td>\n",
       "      <td>0.1</td>\n",
       "      <td>3.378050</td>\n",
       "      <td>37.577303</td>\n",
       "    </tr>\n",
       "  </tbody>\n",
       "</table>\n",
       "<p>5 rows × 122 columns</p>\n",
       "</div>"
      ],
      "text/plain": [
       "       gameId  playId  frameId  OFF_PLAYER_1_X  OFF_PLAYER_1_Y  \\\n",
       "0  2022091106      59        1           45.33            6.40   \n",
       "1  2022091106      59        2           45.18            5.80   \n",
       "2  2022091106      59        3           45.02            5.20   \n",
       "3  2022091106      59        4           44.87            4.60   \n",
       "4  2022091106      59        5           44.73            4.02   \n",
       "\n",
       "   OFF_PLAYER_1_A  OFF_PLAYER_1_S  OFF_PLAYER_1_D  OFF_PLAYER_2_X  \\\n",
       "0            2.12            6.30        2.668107           38.82   \n",
       "1            2.09            6.15        0.640312           38.87   \n",
       "2            1.82            6.08        0.510100           38.92   \n",
       "3            1.63            5.99        0.415934           38.96   \n",
       "4            1.48            5.92        0.331059           38.99   \n",
       "\n",
       "   OFF_PLAYER_2_Y  ...  DEF_PLAYER_11_D  DEF_PLAYER_12_X  DEF_PLAYER_12_Y  \\\n",
       "0           21.87  ...        30.915255            45.88            48.70   \n",
       "1           21.42  ...        32.771823            45.93            49.04   \n",
       "2           20.98  ...        33.084456            45.98            49.36   \n",
       "3           20.57  ...        33.429730            46.03            49.65   \n",
       "4           20.16  ...        33.783916            46.07            49.92   \n",
       "\n",
       "   DEF_PLAYER_12_A  DEF_PLAYER_12_S  DEF_PLAYER_12_D   x_tackle  y_tackle  \\\n",
       "0             2.75             3.53        40.913876  44.310001       0.1   \n",
       "1             2.41             3.32        43.282325  44.310001       0.1   \n",
       "2             2.18             3.10        44.194454  44.310001       0.1   \n",
       "3             1.99             2.88        45.147306  44.310001       0.1   \n",
       "4             2.01             2.64        46.069200  44.310001       0.1   \n",
       "\n",
       "   y_tackle_pred  x_tackle_pred  \n",
       "0       3.620764      42.170526  \n",
       "1       3.895524      39.122159  \n",
       "2       3.726692      38.581823  \n",
       "3       3.547331      38.049387  \n",
       "4       3.378050      37.577303  \n",
       "\n",
       "[5 rows x 122 columns]"
      ]
     },
     "execution_count": 13,
     "metadata": {},
     "output_type": "execute_result"
    }
   ],
   "source": [
    "test_df['y_tackle_pred'] = gpr_y.predict(test_df[features_list].values)\n",
    "test_df['x_tackle_pred'] = gpr_x.predict(test_df[features_list].values)\n",
    "\n",
    "test_df.head()"
   ]
  },
  {
   "cell_type": "code",
   "execution_count": 14,
   "metadata": {
    "colab": {
     "base_uri": "https://localhost:8080/"
    },
    "id": "AglT_pA1UAXU",
    "outputId": "f1f21991-4fb9-4fd0-f146-856d24fc09a3"
   },
   "outputs": [
    {
     "data": {
      "text/plain": [
       "10.321291724684645"
      ]
     },
     "execution_count": 14,
     "metadata": {},
     "output_type": "execute_result"
    }
   ],
   "source": [
    "mean_absolute_error(test_df['y_tackle'], test_df['y_tackle_pred'])"
   ]
  },
  {
   "cell_type": "code",
   "execution_count": 15,
   "metadata": {
    "colab": {
     "base_uri": "https://localhost:8080/"
    },
    "id": "ozWc_L6LUDeU",
    "outputId": "1d934bdd-05a0-41f6-8cb3-8f3b5dbb5091"
   },
   "outputs": [
    {
     "data": {
      "text/plain": [
       "8.975432324822581"
      ]
     },
     "execution_count": 15,
     "metadata": {},
     "output_type": "execute_result"
    }
   ],
   "source": [
    "mean_absolute_error(test_df['x_tackle'], test_df['x_tackle_pred'])"
   ]
  },
  {
   "cell_type": "code",
   "execution_count": 16,
   "metadata": {
    "colab": {
     "base_uri": "https://localhost:8080/",
     "height": 562
    },
    "id": "Uy0nm199VSo3",
    "outputId": "3ad325f0-1116-4cfe-b485-008f6d1c4dee"
   },
   "outputs": [
    {
     "data": {
      "image/png": "[encoded data removed]",
      "text/plain": [
       "<Figure size 1200x665 with 2 Axes>"
      ]
     },
     "metadata": {},
     "output_type": "display_data"
    }
   ],
   "source": [
    "# take a sample play\n",
    "sample_test_df = test_df.loc[test_df['playId'] == 83]\n",
    "sample_frame_df = sample_test_df.loc[sample_test_df['frameId'] == 13][features_list]\n",
    "sample_frame_df.head()\n",
    "\n",
    "# Function to create a football field\n",
    "def create_football_field(line_color='black', field_color='white'):\n",
    "    fig, ax = plt.subplots(figsize=(12, 6.65))  # Set figure size to resemble a football field\n",
    "\n",
    "    # Draw the field as a series of rectangles\n",
    "    for i in range(12):\n",
    "        rect = patches.Rectangle((10 * i, 0), 10, 53.3, linewidth=1, edgecolor=line_color, facecolor=field_color)\n",
    "        ax.add_patch(rect)\n",
    "\n",
    "    # Customize the ticks and labels\n",
    "    ax.tick_params(axis='both', which='both', direction='in', pad=-40, length=5,\n",
    "                   bottom=True, top=True, labeltop=True, labelbottom=True,\n",
    "                   left=False, right=False, labelleft=False, labelright=False,\n",
    "                   color=line_color)\n",
    "\n",
    "    ax.set_xticks([i for i in range(10, 111)])\n",
    "    label_set = []\n",
    "    for i in range(1, 10):\n",
    "        label_set += [\" \" for j in range(9)] + [str(i * 10) if i <= 5 else str((10 - i) * 10)]\n",
    "    label_set = [\" \"] + label_set + [\" \" for j in range(10)]\n",
    "    ax.set_xticklabels(label_set, fontsize=20, color=line_color)\n",
    "\n",
    "    # Return the figure and axis objects\n",
    "    return fig, ax\n",
    "\n",
    "# Assume gpr_x and gpr_y are your trained GaussianProcessRegressor models for x and y\n",
    "# Choose a single test sample (reshaped to 2D if necessary)\n",
    "test_sample_x = sample_frame_df.values.reshape(1, -1)  # for gpr_x\n",
    "test_sample_y = sample_frame_df.values.reshape(1, -1)  # for gpr_y\n",
    "\n",
    "# Predict means and standard deviations for both x and y\n",
    "mean_x, std_x = gpr_x.predict(test_sample_x, return_std=True)\n",
    "mean_y, std_y = gpr_y.predict(test_sample_y, return_std=True)\n",
    "\n",
    "# Create a 2D grid for plotting\n",
    "x = np.linspace(mean_x - 3 * std_x, mean_x + 3 * std_x, 100)\n",
    "y = np.linspace(mean_y - 3 * std_y, mean_y + 3 * std_y, 100)\n",
    "X, Y = np.meshgrid(x, y)\n",
    "\n",
    "# Calculate the joint PDF assuming independence between x and y\n",
    "# Flatten X and Y for the positions to evaluate the PDF\n",
    "pos = np.empty(X.shape + (2,))\n",
    "pos[:, :, 0] = X; pos[:, :, 1] = Y\n",
    "\n",
    "# Create the covariance matrix assuming independence between x and y\n",
    "covariance_matrix = np.diag([std_x[0]**2, std_y[0]**2])\n",
    "\n",
    "# Create a multivariate normal distribution with the predicted means and covariance\n",
    "rv = multivariate_normal([mean_x[0], mean_y[0]], covariance_matrix)\n",
    "\n",
    "# Calculate the joint PDF\n",
    "joint_pdf = rv.pdf(pos)\n",
    "\n",
    "# Create the football field\n",
    "fig, ax = create_football_field()\n",
    "\n",
    "# Overlay the joint probability distribution onto the football field\n",
    "contour = ax.contourf(X, Y, joint_pdf, levels=40, cmap='viridis', alpha=0.6)\n",
    "\n",
    "# Add a colorbar to the plot\n",
    "cbar = fig.colorbar(contour, ax=ax, orientation='horizontal', pad=0.01)\n",
    "cbar.set_label('Probability Density', color='black')\n",
    "cbar.ax.tick_params(colors='black')\n",
    "\n",
    "# Set the plot limits to fit the football field dimensions\n",
    "ax.set_xlim(0, 120)\n",
    "ax.set_ylim(0, 53.3)\n",
    "\n",
    "# Display the plot\n",
    "plt.show()"
   ]
  },
  {
   "cell_type": "code",
   "execution_count": 39,
   "metadata": {},
   "outputs": [],
   "source": [
    "# Group by gameId, playId, and frameId, and apply the MAE calculation\n",
    "grouped = test_df.groupby(['gameId', 'playId', 'frameId'])\n",
    "mae_x = grouped.apply(lambda g: mean_absolute_error(g['x_tackle'], g['x_tackle_pred']))\n",
    "mae_y = grouped.apply(lambda g: mean_absolute_error(g['y_tackle'], g['y_tackle_pred']))\n",
    "\n",
    "# Combine the results into a single DataFrame\n",
    "mae_df = pd.DataFrame({'mae_x': mae_x, 'mae_y': mae_y}).reset_index()"
   ]
  },
  {
   "cell_type": "code",
   "execution_count": 40,
   "metadata": {},
   "outputs": [],
   "source": [
    "mae_stats = mae_df.groupby('frameId').agg({'mae_x': ['mean', 'std'], 'mae_y': ['mean', 'std']})\n",
    "mae_stats.columns = ['_'.join(col).strip() for col in mae_stats.columns.values]"
   ]
  },
  {
   "cell_type": "code",
   "execution_count": 41,
   "metadata": {},
   "outputs": [
    {
     "data": {
      "image/png": "[encoded data removed]",
      "text/plain": [
       "<Figure size 1200x600 with 1 Axes>"
      ]
     },
     "metadata": {},
     "output_type": "display_data"
    }
   ],
   "source": [
    "plt.figure(figsize=(12, 6))\n",
    "plt.plot(mae_stats.index, mae_stats['mae_x_mean'], label='MAE X', color='blue')\n",
    "plt.fill_between(mae_stats.index, mae_stats['mae_x_mean'] - mae_stats['mae_x_std'], mae_stats['mae_x_mean'] + mae_stats['mae_x_std'], color='blue', alpha=0.2)\n",
    "plt.plot(mae_stats.index, mae_stats['mae_y_mean'], label='MAE Y', color='red')\n",
    "plt.fill_between(mae_stats.index, mae_stats['mae_y_mean'] - mae_stats['mae_y_std'], mae_stats['mae_y_mean'] + mae_stats['mae_y_std'], color='red', alpha=0.2)\n",
    "plt.xlabel('Frame ID')\n",
    "plt.ylabel('Mean Absolute Error')\n",
    "plt.title('MAE with Confidence Intervals for X and Y Tackle Predictions per Frame')\n",
    "plt.legend()\n",
    "plt.show()"
   ]
  }
 ],
 "metadata": {
  "colab": {
   "provenance": []
  },
  "kernelspec": {
   "display_name": "Python 3 (ipykernel)",
   "language": "python",
   "name": "python3"
  },
  "language_info": {
   "codemirror_mode": {
    "name": "ipython",
    "version": 3
   },
   "file_extension": ".py",
   "mimetype": "text/x-python",
   "name": "python",
   "nbconvert_exporter": "python",
   "pygments_lexer": "ipython3",
   "version": "3.11.6"
  }
 },
 "nbformat": 4,
 "nbformat_minor": 4
}
